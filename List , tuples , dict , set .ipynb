{
 "cells": [
  {
   "cell_type": "code",
   "execution_count": 1,
   "id": "6aa8fce0",
   "metadata": {},
   "outputs": [],
   "source": [
    "l = [1,2,3,4,5, \"sudh\" , 45.67, True]"
   ]
  },
  {
   "cell_type": "code",
   "execution_count": 1,
   "outputs": [],
   "source": [],
   "metadata": {
    "collapsed": false
   }
  },
  {
   "cell_type": "code",
   "execution_count": 2,
   "outputs": [],
   "source": [
    "l = [1,2,3,4,5, \"sujoy\" , 45.67, True]"
   ],
   "metadata": {
    "collapsed": false
   }
  },
  {
   "cell_type": "code",
   "execution_count": 3,
   "outputs": [
    {
     "data": {
      "text/plain": "'yojus'"
     },
     "execution_count": 3,
     "metadata": {},
     "output_type": "execute_result"
    }
   ],
   "source": [
    "l[5][::-1]"
   ],
   "metadata": {
    "collapsed": false
   }
  },
  {
   "cell_type": "code",
   "execution_count": 4,
   "outputs": [
    {
     "data": {
      "text/plain": "'u'"
     },
     "execution_count": 4,
     "metadata": {},
     "output_type": "execute_result"
    }
   ],
   "source": [
    "l[5][1]"
   ],
   "metadata": {
    "collapsed": false
   }
  },
  {
   "cell_type": "code",
   "execution_count": 5,
   "outputs": [],
   "source": [
    "l3 = [1,2,3,4,5, \"sujoy\" , 45.67, True]"
   ],
   "metadata": {
    "collapsed": false
   }
  },
  {
   "cell_type": "code",
   "execution_count": 6,
   "outputs": [
    {
     "data": {
      "text/plain": "[1, 2, 3, 4, 5, 'sujoy', 45.67, True, 1, 2, 3, 4, 5, 'sujoy', 45.67, True]"
     },
     "execution_count": 6,
     "metadata": {},
     "output_type": "execute_result"
    }
   ],
   "source": [
    "l2 = l + l3\n",
    "l2"
   ],
   "metadata": {
    "collapsed": false
   }
  },
  {
   "cell_type": "code",
   "execution_count": 7,
   "outputs": [
    {
     "data": {
      "text/plain": "8"
     },
     "execution_count": 7,
     "metadata": {},
     "output_type": "execute_result"
    }
   ],
   "source": [
    "len(l)"
   ],
   "metadata": {
    "collapsed": false
   }
  },
  {
   "cell_type": "code",
   "execution_count": 8,
   "outputs": [
    {
     "data": {
      "text/plain": "[1, 2, 3, 4, 5, 'sujoy', 45.67, True]"
     },
     "execution_count": 8,
     "metadata": {},
     "output_type": "execute_result"
    }
   ],
   "source": [
    "l"
   ],
   "metadata": {
    "collapsed": false
   }
  },
  {
   "cell_type": "code",
   "execution_count": 9,
   "outputs": [
    {
     "data": {
      "text/plain": "[1, 2, 3, 4, 5, 'sujoy', 45.67, True]"
     },
     "execution_count": 9,
     "metadata": {},
     "output_type": "execute_result"
    }
   ],
   "source": [
    "l.append(l3)\n",
    "l3"
   ],
   "metadata": {
    "collapsed": false
   }
  },
  {
   "cell_type": "code",
   "execution_count": 9,
   "outputs": [],
   "source": [],
   "metadata": {
    "collapsed": false
   }
  },
  {
   "cell_type": "code",
   "execution_count": 10,
   "id": "88a616d3",
   "metadata": {},
   "outputs": [
    {
     "data": {
      "text/plain": "1"
     },
     "execution_count": 10,
     "metadata": {},
     "output_type": "execute_result"
    }
   ],
   "source": [
    "l[0]"
   ]
  },
  {
   "cell_type": "code",
   "execution_count": 11,
   "id": "ba5eb6aa",
   "metadata": {},
   "outputs": [
    {
     "data": {
      "text/plain": "[1, 2, 3, 4, 5, 'sujoy', 45.67, True]"
     },
     "execution_count": 11,
     "metadata": {},
     "output_type": "execute_result"
    }
   ],
   "source": [
    "l[-1]"
   ]
  },
  {
   "cell_type": "code",
   "execution_count": 12,
   "outputs": [
    {
     "data": {
      "text/plain": "[[1, 2, 3, 4, 5, 'sujoy', 45.67, True], True, 45.67, 'sujoy', 5, 4, 3, 2, 1]"
     },
     "execution_count": 12,
     "metadata": {},
     "output_type": "execute_result"
    }
   ],
   "source": [
    "l[::-1]"
   ],
   "metadata": {
    "collapsed": false
   }
  },
  {
   "cell_type": "code",
   "execution_count": 13,
   "outputs": [
    {
     "data": {
      "text/plain": "9"
     },
     "execution_count": 13,
     "metadata": {},
     "output_type": "execute_result"
    }
   ],
   "source": [
    "len(l)"
   ],
   "metadata": {
    "collapsed": false
   }
  },
  {
   "cell_type": "code",
   "execution_count": 14,
   "id": "fed3fabb",
   "metadata": {},
   "outputs": [
    {
     "data": {
      "text/plain": "9"
     },
     "execution_count": 14,
     "metadata": {},
     "output_type": "execute_result"
    }
   ],
   "source": [
    "len(l)"
   ]
  },
  {
   "cell_type": "code",
   "execution_count": 15,
   "outputs": [
    {
     "data": {
      "text/plain": "[1, 3, 5]"
     },
     "execution_count": 15,
     "metadata": {},
     "output_type": "execute_result"
    }
   ],
   "source": [
    "l[:5:2]"
   ],
   "metadata": {
    "collapsed": false
   }
  },
  {
   "cell_type": "code",
   "execution_count": 16,
   "id": "a22593bb",
   "metadata": {},
   "outputs": [
    {
     "data": {
      "text/plain": "[1, 2, 3, 4, 5]"
     },
     "execution_count": 16,
     "metadata": {},
     "output_type": "execute_result"
    }
   ],
   "source": [
    "l[0:5]"
   ]
  },
  {
   "cell_type": "code",
   "execution_count": 17,
   "outputs": [
    {
     "data": {
      "text/plain": "[1, 2, 3, 4, 5, 'sujoy', 45.67, True]"
     },
     "execution_count": 17,
     "metadata": {},
     "output_type": "execute_result"
    }
   ],
   "source": [
    "l[:-1:]"
   ],
   "metadata": {
    "collapsed": false
   }
  },
  {
   "cell_type": "code",
   "execution_count": 18,
   "id": "9ec8246d",
   "metadata": {},
   "outputs": [
    {
     "data": {
      "text/plain": "[[1, 2, 3, 4, 5, 'sujoy', 45.67, True], True, 45.67, 'sujoy', 5, 4, 3, 2, 1]"
     },
     "execution_count": 18,
     "metadata": {},
     "output_type": "execute_result"
    }
   ],
   "source": [
    "l[::-1]"
   ]
  },
  {
   "cell_type": "code",
   "execution_count": 19,
   "id": "325e5983",
   "metadata": {},
   "outputs": [
    {
     "data": {
      "text/plain": "[1, 2, 3, 4, 5, 'sujoy', 45.67, True, [1, 2, 3, 4, 5, 'sujoy', 45.67, True]]"
     },
     "execution_count": 19,
     "metadata": {},
     "output_type": "execute_result"
    }
   ],
   "source": [
    "l"
   ]
  },
  {
   "cell_type": "code",
   "execution_count": 20,
   "id": "4a5c6b2d",
   "metadata": {},
   "outputs": [
    {
     "data": {
      "text/plain": "[1, 3, 5, 45.67, [1, 2, 3, 4, 5, 'sujoy', 45.67, True]]"
     },
     "execution_count": 20,
     "metadata": {},
     "output_type": "execute_result"
    }
   ],
   "source": [
    "l[0:100:2]"
   ]
  },
  {
   "cell_type": "code",
   "execution_count": 21,
   "id": "7f8fa5d8",
   "metadata": {},
   "outputs": [
    {
     "data": {
      "text/plain": "[1, 2, 3, 4, 5, 'sujoy', 45.67, True, [1, 2, 3, 4, 5, 'sujoy', 45.67, True]]"
     },
     "execution_count": 21,
     "metadata": {},
     "output_type": "execute_result"
    }
   ],
   "source": [
    "l"
   ]
  },
  {
   "cell_type": "code",
   "execution_count": 22,
   "id": "31faac26",
   "metadata": {},
   "outputs": [
    {
     "data": {
      "text/plain": "[]"
     },
     "execution_count": 22,
     "metadata": {},
     "output_type": "execute_result"
    }
   ],
   "source": [
    "l[0:8:-1]"
   ]
  },
  {
   "cell_type": "code",
   "execution_count": 23,
   "id": "d1ac7b2f",
   "metadata": {},
   "outputs": [
    {
     "data": {
      "text/plain": "[1, 2, 3]"
     },
     "execution_count": 23,
     "metadata": {},
     "output_type": "execute_result"
    }
   ],
   "source": [
    "l[:3]"
   ]
  },
  {
   "cell_type": "code",
   "execution_count": 24,
   "id": "f3a88528",
   "metadata": {},
   "outputs": [
    {
     "data": {
      "text/plain": "[1,\n 2,\n 3,\n 4,\n 5,\n 'sujoy',\n 45.67,\n True,\n [1, 2, 3, 4, 5, 'sujoy', 45.67, True],\n 'sudh']"
     },
     "execution_count": 24,
     "metadata": {},
     "output_type": "execute_result"
    }
   ],
   "source": [
    "l +[\"sudh\"]"
   ]
  },
  {
   "cell_type": "code",
   "execution_count": 25,
   "id": "9c50fc6c",
   "metadata": {},
   "outputs": [
    {
     "data": {
      "text/plain": "[1,\n 2,\n 3,\n 4,\n 5,\n 'sujoy',\n 45.67,\n True,\n [1, 2, 3, 4, 5, 'sujoy', 45.67, True],\n 1,\n 2,\n 3,\n 4,\n 5,\n 'sujoy',\n 45.67,\n True,\n [1, 2, 3, 4, 5, 'sujoy', 45.67, True]]"
     },
     "execution_count": 25,
     "metadata": {},
     "output_type": "execute_result"
    }
   ],
   "source": [
    "l * 2"
   ]
  },
  {
   "cell_type": "code",
   "execution_count": 26,
   "id": "a8835e53",
   "metadata": {},
   "outputs": [],
   "source": [
    "l = [1, 2, 3, 4, 5, 'sudh', 45.67, True]"
   ]
  },
  {
   "cell_type": "code",
   "execution_count": 27,
   "id": "1b7cb7ee",
   "metadata": {},
   "outputs": [
    {
     "data": {
      "text/plain": "False"
     },
     "execution_count": 27,
     "metadata": {},
     "output_type": "execute_result"
    }
   ],
   "source": [
    "60 in l"
   ]
  },
  {
   "cell_type": "code",
   "execution_count": 28,
   "id": "f72eae30",
   "metadata": {},
   "outputs": [
    {
     "data": {
      "text/plain": "True"
     },
     "execution_count": 28,
     "metadata": {},
     "output_type": "execute_result"
    }
   ],
   "source": [
    "2 in l"
   ]
  },
  {
   "cell_type": "code",
   "execution_count": 29,
   "id": "36dcfabd",
   "metadata": {},
   "outputs": [
    {
     "ename": "TypeError",
     "evalue": "'>' not supported between instances of 'str' and 'int'",
     "output_type": "error",
     "traceback": [
      "\u001B[1;31m---------------------------------------------------------------------------\u001B[0m",
      "\u001B[1;31mTypeError\u001B[0m                                 Traceback (most recent call last)",
      "\u001B[1;32m~\\AppData\\Local\\Temp/ipykernel_3800/3355151982.py\u001B[0m in \u001B[0;36m<module>\u001B[1;34m\u001B[0m\n\u001B[1;32m----> 1\u001B[1;33m \u001B[0mmax\u001B[0m\u001B[1;33m(\u001B[0m\u001B[0ml\u001B[0m\u001B[1;33m)\u001B[0m\u001B[1;33m\u001B[0m\u001B[1;33m\u001B[0m\u001B[0m\n\u001B[0m",
      "\u001B[1;31mTypeError\u001B[0m: '>' not supported between instances of 'str' and 'int'"
     ]
    }
   ],
   "source": [
    "max(l)"
   ]
  },
  {
   "cell_type": "code",
   "execution_count": null,
   "id": "5f9d1feb",
   "metadata": {},
   "outputs": [],
   "source": [
    "l1 = [3,4,5,6,6]"
   ]
  },
  {
   "cell_type": "code",
   "execution_count": null,
   "id": "19744a16",
   "metadata": {},
   "outputs": [],
   "source": [
    "max(l1)"
   ]
  },
  {
   "cell_type": "code",
   "execution_count": null,
   "id": "36d91ce0",
   "metadata": {},
   "outputs": [],
   "source": [
    "l"
   ]
  },
  {
   "cell_type": "code",
   "execution_count": null,
   "id": "cb8fbcc3",
   "metadata": {},
   "outputs": [],
   "source": [
    "l2 = [\"sudh\" , \"iNeuron\" , \"kumar\"]"
   ]
  },
  {
   "cell_type": "code",
   "execution_count": null,
   "id": "fcbb6f75",
   "metadata": {},
   "outputs": [],
   "source": [
    "max(l2)"
   ]
  },
  {
   "cell_type": "code",
   "execution_count": null,
   "id": "f15ead27",
   "metadata": {},
   "outputs": [],
   "source": [
    "min(l1)"
   ]
  },
  {
   "cell_type": "code",
   "execution_count": null,
   "id": "2f860bd5",
   "metadata": {},
   "outputs": [],
   "source": [
    "min(l2)"
   ]
  },
  {
   "cell_type": "code",
   "execution_count": null,
   "id": "0302a260",
   "metadata": {},
   "outputs": [],
   "source": [
    "l"
   ]
  },
  {
   "cell_type": "code",
   "execution_count": null,
   "id": "749e8146",
   "metadata": {},
   "outputs": [],
   "source": [
    "l.append(\"kumar\")"
   ]
  },
  {
   "cell_type": "code",
   "execution_count": null,
   "id": "3c94f99a",
   "metadata": {},
   "outputs": [],
   "source": [
    "l"
   ]
  },
  {
   "cell_type": "code",
   "execution_count": null,
   "id": "79a5c295",
   "metadata": {},
   "outputs": [],
   "source": [
    "l.append([1,2,3,4])"
   ]
  },
  {
   "cell_type": "code",
   "execution_count": null,
   "id": "5e122777",
   "metadata": {},
   "outputs": [],
   "source": [
    "l"
   ]
  },
  {
   "cell_type": "code",
   "execution_count": null,
   "id": "03c9adf9",
   "metadata": {},
   "outputs": [],
   "source": [
    "l.pop(0)"
   ]
  },
  {
   "cell_type": "code",
   "execution_count": null,
   "id": "84200cd2",
   "metadata": {},
   "outputs": [],
   "source": [
    "l"
   ]
  },
  {
   "cell_type": "code",
   "execution_count": null,
   "id": "6edaaa25",
   "metadata": {},
   "outputs": [],
   "source": [
    "l.pop()"
   ]
  },
  {
   "cell_type": "code",
   "execution_count": null,
   "id": "e578afaf",
   "metadata": {},
   "outputs": [],
   "source": [
    "l"
   ]
  },
  {
   "cell_type": "code",
   "execution_count": null,
   "id": "77598818",
   "metadata": {},
   "outputs": [],
   "source": [
    "l.reverse()"
   ]
  },
  {
   "cell_type": "code",
   "execution_count": null,
   "id": "c630beef",
   "metadata": {},
   "outputs": [],
   "source": [
    "l"
   ]
  },
  {
   "cell_type": "code",
   "execution_count": null,
   "outputs": [],
   "source": [],
   "metadata": {
    "collapsed": false
   }
  },
  {
   "cell_type": "code",
   "execution_count": null,
   "id": "52cfc604",
   "metadata": {},
   "outputs": [],
   "source": [
    "l = l[::-1]"
   ]
  },
  {
   "cell_type": "code",
   "execution_count": null,
   "outputs": [],
   "source": [
    "l"
   ],
   "metadata": {
    "collapsed": false
   }
  },
  {
   "cell_type": "code",
   "execution_count": null,
   "id": "f8d0ef51",
   "metadata": {},
   "outputs": [],
   "source": [
    "\n",
    "l.reverse()"
   ]
  },
  {
   "cell_type": "code",
   "execution_count": null,
   "id": "04bdc84d",
   "metadata": {},
   "outputs": [],
   "source": [
    "l"
   ]
  },
  {
   "cell_type": "code",
   "execution_count": null,
   "id": "546a2228",
   "metadata": {},
   "outputs": [],
   "source": [
    "l.append ([1,2,3,4])"
   ]
  },
  {
   "cell_type": "code",
   "execution_count": null,
   "id": "03d13653",
   "metadata": {},
   "outputs": [],
   "source": [
    "l"
   ]
  },
  {
   "cell_type": "code",
   "execution_count": null,
   "outputs": [],
   "source": [
    "l[-1].count(1)"
   ],
   "metadata": {
    "collapsed": false
   }
  },
  {
   "cell_type": "code",
   "execution_count": null,
   "id": "9045a61f",
   "metadata": {},
   "outputs": [],
   "source": [
    "l.sort()"
   ]
  },
  {
   "cell_type": "code",
   "execution_count": null,
   "id": "9cd32227",
   "metadata": {},
   "outputs": [],
   "source": [
    "l"
   ]
  },
  {
   "cell_type": "code",
   "execution_count": null,
   "id": "1c2e3b21",
   "metadata": {},
   "outputs": [],
   "source": [
    "l1 = [1,9,67,2, 3,4, 5]\n",
    "l1"
   ]
  },
  {
   "cell_type": "code",
   "execution_count": null,
   "outputs": [],
   "source": [
    "l1"
   ],
   "metadata": {
    "collapsed": false
   }
  },
  {
   "cell_type": "code",
   "execution_count": null,
   "id": "0fa37a2d",
   "metadata": {},
   "outputs": [],
   "source": [
    "l1.sort()"
   ]
  },
  {
   "cell_type": "code",
   "execution_count": null,
   "id": "f0eb8ce5",
   "metadata": {},
   "outputs": [],
   "source": [
    "l1"
   ]
  },
  {
   "cell_type": "code",
   "execution_count": null,
   "id": "71dbdb88",
   "metadata": {},
   "outputs": [],
   "source": [
    "l3 = [8,98,34,23,1,0]"
   ]
  },
  {
   "cell_type": "code",
   "execution_count": null,
   "id": "e9df020b",
   "metadata": {},
   "outputs": [],
   "source": [
    "l3.sort(reverse= True )"
   ]
  },
  {
   "cell_type": "code",
   "execution_count": null,
   "id": "cb59106d",
   "metadata": {},
   "outputs": [],
   "source": [
    "l3"
   ]
  },
  {
   "cell_type": "code",
   "execution_count": null,
   "id": "b74d99fc",
   "metadata": {},
   "outputs": [],
   "source": [
    "l1 = [2,3,4]\n",
    "l2 = [6,7,8]\n",
    "l3 = [3,2,4]"
   ]
  },
  {
   "cell_type": "code",
   "execution_count": null,
   "id": "ccb0aeda",
   "metadata": {},
   "outputs": [],
   "source": [
    "l4 = [l1,l2,l3]"
   ]
  },
  {
   "cell_type": "markdown",
   "source": [],
   "metadata": {
    "collapsed": false
   }
  },
  {
   "cell_type": "code",
   "execution_count": null,
   "id": "f7c18d8b",
   "metadata": {},
   "outputs": [],
   "source": [
    "l4"
   ]
  },
  {
   "cell_type": "code",
   "execution_count": null,
   "id": "e3091857",
   "metadata": {},
   "outputs": [],
   "source": [
    "l4"
   ]
  },
  {
   "cell_type": "code",
   "execution_count": null,
   "id": "1c71465f",
   "metadata": {},
   "outputs": [],
   "source": [
    "l4[2][1]"
   ]
  },
  {
   "cell_type": "code",
   "execution_count": null,
   "id": "68c6c66b",
   "metadata": {},
   "outputs": [],
   "source": [
    "l4[2][1]"
   ]
  },
  {
   "cell_type": "code",
   "execution_count": null,
   "id": "33febc15",
   "metadata": {},
   "outputs": [],
   "source": [
    "l"
   ]
  },
  {
   "cell_type": "code",
   "execution_count": null,
   "outputs": [],
   "source": [
    "l.count(4)"
   ],
   "metadata": {
    "collapsed": false
   }
  },
  {
   "cell_type": "code",
   "execution_count": null,
   "id": "dfefc348",
   "metadata": {},
   "outputs": [],
   "source": [
    "l.count(2)"
   ]
  },
  {
   "cell_type": "code",
   "execution_count": null,
   "id": "bbf42cca",
   "metadata": {},
   "outputs": [],
   "source": [
    "l5 = [3,4,5,3,3,3, 2,2,2,2,4]"
   ]
  },
  {
   "cell_type": "code",
   "execution_count": null,
   "outputs": [],
   "source": [
    "l5.count(2)"
   ],
   "metadata": {
    "collapsed": false
   }
  },
  {
   "cell_type": "code",
   "execution_count": null,
   "id": "94653c8e",
   "metadata": {},
   "outputs": [],
   "source": [
    "l5.count(3)"
   ]
  },
  {
   "cell_type": "code",
   "execution_count": null,
   "id": "15a1b5b8",
   "metadata": {},
   "outputs": [],
   "source": [
    "l1=[1,2,3]\n",
    "l2=[4,5,6]\n",
    "l3=[7,8,9]\n",
    "\n",
    "l4=[l1,l2,l3]\n",
    "\n",
    "l4.count(3)\n",
    "\n"
   ]
  },
  {
   "cell_type": "code",
   "execution_count": null,
   "id": "0a2a3d99",
   "metadata": {},
   "outputs": [],
   "source": [
    "l4"
   ]
  },
  {
   "cell_type": "code",
   "execution_count": null,
   "id": "9344afad",
   "metadata": {},
   "outputs": [],
   "source": [
    "l4.count(3)"
   ]
  },
  {
   "cell_type": "code",
   "execution_count": null,
   "outputs": [],
   "source": [
    "l4[2][1]"
   ],
   "metadata": {
    "collapsed": false
   }
  },
  {
   "cell_type": "code",
   "execution_count": null,
   "id": "a67e216c",
   "metadata": {},
   "outputs": [],
   "source": [
    "l"
   ]
  },
  {
   "cell_type": "code",
   "execution_count": null,
   "id": "68861420",
   "metadata": {},
   "outputs": [],
   "source": [
    "l.append(\"iNeuron\")"
   ]
  },
  {
   "cell_type": "code",
   "execution_count": null,
   "id": "927a4828",
   "metadata": {},
   "outputs": [],
   "source": [
    "l"
   ]
  },
  {
   "cell_type": "code",
   "execution_count": null,
   "id": "de2bbdc9",
   "metadata": {},
   "outputs": [],
   "source": [
    "l.append([4,56 , \"sudh\"])"
   ]
  },
  {
   "cell_type": "code",
   "execution_count": null,
   "id": "fb235d9c",
   "metadata": {},
   "outputs": [],
   "source": [
    "l"
   ]
  },
  {
   "cell_type": "code",
   "execution_count": null,
   "id": "9f139029",
   "metadata": {},
   "outputs": [],
   "source": [
    "l.extend(\"sudhu\")"
   ]
  },
  {
   "cell_type": "code",
   "execution_count": null,
   "id": "40c36ad0",
   "metadata": {},
   "outputs": [],
   "source": [
    "l"
   ]
  },
  {
   "cell_type": "code",
   "execution_count": null,
   "outputs": [],
   "source": [
    "l.index(5)"
   ],
   "metadata": {
    "collapsed": false
   }
  },
  {
   "cell_type": "code",
   "execution_count": null,
   "id": "39565fb8",
   "metadata": {},
   "outputs": [],
   "source": [
    "\n",
    "l6 = [1, 2, 3, [4, 5, 6]]"
   ]
  },
  {
   "cell_type": "code",
   "execution_count": null,
   "id": "ca802d08",
   "metadata": {},
   "outputs": [],
   "source": [
    "l6.insert(1,67)"
   ]
  },
  {
   "cell_type": "code",
   "execution_count": null,
   "id": "b12a528a",
   "metadata": {},
   "outputs": [],
   "source": [
    "l6"
   ]
  },
  {
   "cell_type": "code",
   "execution_count": null,
   "id": "7388acce",
   "metadata": {},
   "outputs": [],
   "source": [
    "l6.append(\"sudh\")"
   ]
  },
  {
   "cell_type": "code",
   "execution_count": null,
   "id": "fd0824a0",
   "metadata": {},
   "outputs": [],
   "source": [
    "l6"
   ]
  },
  {
   "cell_type": "code",
   "execution_count": null,
   "id": "7907cb19",
   "metadata": {},
   "outputs": [],
   "source": [
    "l6.extend([45,67])"
   ]
  },
  {
   "cell_type": "code",
   "execution_count": null,
   "id": "603aba04",
   "metadata": {},
   "outputs": [],
   "source": [
    "l6.append(45)"
   ]
  },
  {
   "cell_type": "code",
   "execution_count": 30,
   "id": "dc698e27",
   "metadata": {},
   "outputs": [
    {
     "ename": "NameError",
     "evalue": "name 'l6' is not defined",
     "output_type": "error",
     "traceback": [
      "\u001B[1;31m---------------------------------------------------------------------------\u001B[0m",
      "\u001B[1;31mNameError\u001B[0m                                 Traceback (most recent call last)",
      "\u001B[1;32m~\\AppData\\Local\\Temp/ipykernel_3800/3469533687.py\u001B[0m in \u001B[0;36m<module>\u001B[1;34m\u001B[0m\n\u001B[1;32m----> 1\u001B[1;33m \u001B[0ml6\u001B[0m\u001B[1;33m\u001B[0m\u001B[1;33m\u001B[0m\u001B[0m\n\u001B[0m",
      "\u001B[1;31mNameError\u001B[0m: name 'l6' is not defined"
     ]
    }
   ],
   "source": [
    "l6"
   ]
  },
  {
   "cell_type": "code",
   "execution_count": 31,
   "id": "a662edf7",
   "metadata": {},
   "outputs": [
    {
     "ename": "NameError",
     "evalue": "name 'l6' is not defined",
     "output_type": "error",
     "traceback": [
      "\u001B[1;31m---------------------------------------------------------------------------\u001B[0m",
      "\u001B[1;31mNameError\u001B[0m                                 Traceback (most recent call last)",
      "\u001B[1;32m~\\AppData\\Local\\Temp/ipykernel_3800/2872534536.py\u001B[0m in \u001B[0;36m<module>\u001B[1;34m\u001B[0m\n\u001B[1;32m----> 1\u001B[1;33m \u001B[0ml6\u001B[0m\u001B[1;33m.\u001B[0m\u001B[0mextend\u001B[0m\u001B[1;33m(\u001B[0m\u001B[1;33m[\u001B[0m\u001B[1;36m56\u001B[0m\u001B[1;33m,\u001B[0m\u001B[1;36m34\u001B[0m\u001B[1;33m,\u001B[0m\u001B[1;36m21\u001B[0m\u001B[1;33m]\u001B[0m\u001B[1;33m)\u001B[0m\u001B[1;33m\u001B[0m\u001B[1;33m\u001B[0m\u001B[0m\n\u001B[0m",
      "\u001B[1;31mNameError\u001B[0m: name 'l6' is not defined"
     ]
    }
   ],
   "source": [
    "l6.extend([56,34,21])"
   ]
  },
  {
   "cell_type": "code",
   "execution_count": null,
   "id": "01527db6",
   "metadata": {},
   "outputs": [],
   "source": [
    "l6"
   ]
  },
  {
   "cell_type": "code",
   "execution_count": null,
   "id": "f206218d",
   "metadata": {},
   "outputs": [],
   "source": [
    "l6.extend(\"sudh\")"
   ]
  },
  {
   "cell_type": "code",
   "execution_count": null,
   "id": "1173ec16",
   "metadata": {},
   "outputs": [],
   "source": [
    "l6"
   ]
  },
  {
   "cell_type": "code",
   "execution_count": null,
   "id": "4d38b1bd",
   "metadata": {},
   "outputs": [],
   "source": [
    "l6"
   ]
  },
  {
   "cell_type": "code",
   "execution_count": 32,
   "id": "84a62688",
   "metadata": {},
   "outputs": [
    {
     "ename": "NameError",
     "evalue": "name 'l6' is not defined",
     "output_type": "error",
     "traceback": [
      "\u001B[1;31m---------------------------------------------------------------------------\u001B[0m",
      "\u001B[1;31mNameError\u001B[0m                                 Traceback (most recent call last)",
      "\u001B[1;32m~\\AppData\\Local\\Temp/ipykernel_3800/3351936451.py\u001B[0m in \u001B[0;36m<module>\u001B[1;34m\u001B[0m\n\u001B[1;32m----> 1\u001B[1;33m \u001B[0ml6\u001B[0m\u001B[1;33m.\u001B[0m\u001B[0mindex\u001B[0m\u001B[1;33m(\u001B[0m\u001B[1;36m1\u001B[0m\u001B[1;33m)\u001B[0m\u001B[1;33m\u001B[0m\u001B[1;33m\u001B[0m\u001B[0m\n\u001B[0m",
      "\u001B[1;31mNameError\u001B[0m: name 'l6' is not defined"
     ]
    }
   ],
   "source": [
    "l6.index(1)"
   ]
  },
  {
   "cell_type": "code",
   "execution_count": null,
   "id": "bcd7b6bc",
   "metadata": {},
   "outputs": [],
   "source": [
    "l7  = [1,2,3,4,55,6,6,7]"
   ]
  },
  {
   "cell_type": "code",
   "execution_count": 33,
   "id": "543912bd",
   "metadata": {},
   "outputs": [
    {
     "ename": "NameError",
     "evalue": "name 'l7' is not defined",
     "output_type": "error",
     "traceback": [
      "\u001B[1;31m---------------------------------------------------------------------------\u001B[0m",
      "\u001B[1;31mNameError\u001B[0m                                 Traceback (most recent call last)",
      "\u001B[1;32m~\\AppData\\Local\\Temp/ipykernel_3800/2606038815.py\u001B[0m in \u001B[0;36m<module>\u001B[1;34m\u001B[0m\n\u001B[1;32m----> 1\u001B[1;33m \u001B[0ml7\u001B[0m\u001B[1;33m.\u001B[0m\u001B[0mindex\u001B[0m\u001B[1;33m(\u001B[0m\u001B[1;36m6\u001B[0m\u001B[1;33m)\u001B[0m\u001B[1;33m\u001B[0m\u001B[1;33m\u001B[0m\u001B[0m\n\u001B[0m",
      "\u001B[1;31mNameError\u001B[0m: name 'l7' is not defined"
     ]
    }
   ],
   "source": [
    "l7.index(6)"
   ]
  },
  {
   "cell_type": "code",
   "execution_count": null,
   "outputs": [],
   "source": [
    "l7.index(3)"
   ],
   "metadata": {
    "collapsed": false
   }
  },
  {
   "cell_type": "code",
   "execution_count": 34,
   "id": "a0bd97b7",
   "metadata": {},
   "outputs": [],
   "source": [
    "l = [1, 2, 3, 4, 5, 45]"
   ]
  },
  {
   "cell_type": "code",
   "execution_count": 34,
   "id": "b41b0450",
   "metadata": {},
   "outputs": [],
   "source": []
  },
  {
   "cell_type": "code",
   "execution_count": 35,
   "id": "f806136d",
   "metadata": {},
   "outputs": [
    {
     "data": {
      "text/plain": "[1, 2, 3, 4, 5, 45]"
     },
     "execution_count": 35,
     "metadata": {},
     "output_type": "execute_result"
    }
   ],
   "source": [
    "l"
   ]
  },
  {
   "cell_type": "code",
   "execution_count": 36,
   "id": "8b4bdb4f",
   "metadata": {},
   "outputs": [],
   "source": [
    "l.insert(1 , [1,2,34])"
   ]
  },
  {
   "cell_type": "code",
   "execution_count": 37,
   "id": "08ef3881",
   "metadata": {},
   "outputs": [
    {
     "data": {
      "text/plain": "[[554, 43], 1, [1, 2, 34], 2, 3, 4, 5, 45]"
     },
     "execution_count": 37,
     "metadata": {},
     "output_type": "execute_result"
    }
   ],
   "source": [
    "l.insert(0, [554,43])\n",
    "l"
   ]
  },
  {
   "cell_type": "code",
   "execution_count": 38,
   "id": "c9c73ea0",
   "metadata": {},
   "outputs": [],
   "source": [
    "l.insert(5,\"sudh\")"
   ]
  },
  {
   "cell_type": "code",
   "execution_count": 39,
   "outputs": [],
   "source": [
    "l.insert(3, 'joy')"
   ],
   "metadata": {
    "collapsed": false
   }
  },
  {
   "cell_type": "code",
   "execution_count": 40,
   "id": "4d5fcc67",
   "metadata": {},
   "outputs": [
    {
     "data": {
      "text/plain": "[[554, 43], 1, [1, 2, 34], 'joy', 2, 3, 'sudh', 4, 5, 45]"
     },
     "execution_count": 40,
     "metadata": {},
     "output_type": "execute_result"
    }
   ],
   "source": [
    "l"
   ]
  },
  {
   "cell_type": "code",
   "execution_count": 41,
   "id": "64f41b39",
   "metadata": {},
   "outputs": [
    {
     "data": {
      "text/plain": "[[554, 43], 1, [1, 2, 34], 'joy', 2, 3, 'sudh', 4, 5, 45]"
     },
     "execution_count": 41,
     "metadata": {},
     "output_type": "execute_result"
    }
   ],
   "source": [
    "l"
   ]
  },
  {
   "cell_type": "code",
   "execution_count": 42,
   "id": "a46aa65d",
   "metadata": {},
   "outputs": [
    {
     "data": {
      "text/plain": "45"
     },
     "execution_count": 42,
     "metadata": {},
     "output_type": "execute_result"
    }
   ],
   "source": [
    "l.pop()"
   ]
  },
  {
   "cell_type": "code",
   "execution_count": 43,
   "id": "f7e51b16",
   "metadata": {},
   "outputs": [
    {
     "data": {
      "text/plain": "[[554, 43], 1, [1, 2, 34], 'joy', 2, 3, 'sudh', 4, 5]"
     },
     "execution_count": 43,
     "metadata": {},
     "output_type": "execute_result"
    }
   ],
   "source": [
    "l"
   ]
  },
  {
   "cell_type": "code",
   "execution_count": 44,
   "id": "908f4119",
   "metadata": {},
   "outputs": [
    {
     "data": {
      "text/plain": "[1, 2, 34]"
     },
     "execution_count": 44,
     "metadata": {},
     "output_type": "execute_result"
    }
   ],
   "source": [
    "l.pop(2)            # item is deleted based on the index"
   ]
  },
  {
   "cell_type": "code",
   "execution_count": 45,
   "id": "31839570",
   "metadata": {},
   "outputs": [
    {
     "data": {
      "text/plain": "[[554, 43], 1, 'joy', 2, 3, 'sudh', 4, 5]"
     },
     "execution_count": 45,
     "metadata": {},
     "output_type": "execute_result"
    }
   ],
   "source": [
    "l"
   ]
  },
  {
   "cell_type": "code",
   "execution_count": 46,
   "outputs": [],
   "source": [
    " # item is delected based on the value\n"
   ],
   "metadata": {
    "collapsed": false
   }
  },
  {
   "cell_type": "code",
   "execution_count": 47,
   "id": "9b556890",
   "metadata": {},
   "outputs": [
    {
     "ename": "ValueError",
     "evalue": "list.remove(x): x not in list",
     "output_type": "error",
     "traceback": [
      "\u001B[1;31m---------------------------------------------------------------------------\u001B[0m",
      "\u001B[1;31mValueError\u001B[0m                                Traceback (most recent call last)",
      "\u001B[1;32m~\\AppData\\Local\\Temp/ipykernel_3800/3989229051.py\u001B[0m in \u001B[0;36m<module>\u001B[1;34m\u001B[0m\n\u001B[1;32m----> 1\u001B[1;33m \u001B[0ml\u001B[0m\u001B[1;33m.\u001B[0m\u001B[0mremove\u001B[0m\u001B[1;33m(\u001B[0m\u001B[1;36m100\u001B[0m\u001B[1;33m)\u001B[0m\u001B[1;33m\u001B[0m\u001B[1;33m\u001B[0m\u001B[0m\n\u001B[0m",
      "\u001B[1;31mValueError\u001B[0m: list.remove(x): x not in list"
     ]
    }
   ],
   "source": [
    "l.remove(100)"
   ]
  },
  {
   "cell_type": "code",
   "execution_count": null,
   "id": "8c4c0b2e",
   "metadata": {},
   "outputs": [],
   "source": [
    "l.remove(4)"
   ]
  },
  {
   "cell_type": "code",
   "execution_count": 48,
   "id": "89b079a3",
   "metadata": {},
   "outputs": [
    {
     "data": {
      "text/plain": "[[554, 43], 1, 'joy', 2, 3, 'sudh', 4, 5]"
     },
     "execution_count": 48,
     "metadata": {},
     "output_type": "execute_result"
    }
   ],
   "source": [
    "l"
   ]
  },
  {
   "cell_type": "code",
   "execution_count": 49,
   "id": "4b3fa07c",
   "metadata": {},
   "outputs": [],
   "source": [
    "l.remove(3)"
   ]
  },
  {
   "cell_type": "code",
   "execution_count": 50,
   "id": "bd896442",
   "metadata": {},
   "outputs": [
    {
     "data": {
      "text/plain": "[[554, 43], 1, 'joy', 2, 'sudh', 4, 5]"
     },
     "execution_count": 50,
     "metadata": {},
     "output_type": "execute_result"
    }
   ],
   "source": [
    "l"
   ]
  },
  {
   "cell_type": "code",
   "execution_count": 51,
   "id": "a9d2dbf0",
   "metadata": {},
   "outputs": [],
   "source": [
    "l = [1,2,3,4]"
   ]
  },
  {
   "cell_type": "code",
   "execution_count": 52,
   "id": "68f3ed3d",
   "metadata": {},
   "outputs": [],
   "source": [
    "l[2] =\"sudh\""
   ]
  },
  {
   "cell_type": "code",
   "execution_count": 53,
   "id": "8ae1745a",
   "metadata": {},
   "outputs": [
    {
     "data": {
      "text/plain": "[1, 2, 'sudh', 4]"
     },
     "execution_count": 53,
     "metadata": {},
     "output_type": "execute_result"
    }
   ],
   "source": [
    "l"
   ]
  },
  {
   "cell_type": "code",
   "execution_count": 54,
   "id": "ea4b1401",
   "metadata": {},
   "outputs": [],
   "source": [
    "s = \"iNeuron\""
   ]
  },
  {
   "cell_type": "code",
   "execution_count": 55,
   "id": "afa749f0",
   "metadata": {},
   "outputs": [
    {
     "ename": "TypeError",
     "evalue": "'str' object does not support item assignment",
     "output_type": "error",
     "traceback": [
      "\u001B[1;31m---------------------------------------------------------------------------\u001B[0m",
      "\u001B[1;31mTypeError\u001B[0m                                 Traceback (most recent call last)",
      "\u001B[1;32m~\\AppData\\Local\\Temp/ipykernel_3800/3660715120.py\u001B[0m in \u001B[0;36m<module>\u001B[1;34m\u001B[0m\n\u001B[1;32m----> 1\u001B[1;33m \u001B[0ms\u001B[0m\u001B[1;33m[\u001B[0m\u001B[1;36m2\u001B[0m\u001B[1;33m]\u001B[0m \u001B[1;33m=\u001B[0m \u001B[1;34m'z'\u001B[0m\u001B[1;33m\u001B[0m\u001B[1;33m\u001B[0m\u001B[0m\n\u001B[0m",
      "\u001B[1;31mTypeError\u001B[0m: 'str' object does not support item assignment"
     ]
    }
   ],
   "source": [
    "s[2] = 'z'"
   ]
  },
  {
   "cell_type": "code",
   "execution_count": 56,
   "id": "8e53c33c",
   "metadata": {},
   "outputs": [],
   "source": [
    "t = (4,5,6,7,\"sudh\" ,45.67, True)"
   ]
  },
  {
   "cell_type": "code",
   "execution_count": 57,
   "id": "d5a64769",
   "metadata": {},
   "outputs": [
    {
     "data": {
      "text/plain": "tuple"
     },
     "execution_count": 57,
     "metadata": {},
     "output_type": "execute_result"
    }
   ],
   "source": [
    "type(t)"
   ]
  },
  {
   "cell_type": "code",
   "execution_count": 58,
   "id": "31b1c5f6",
   "metadata": {},
   "outputs": [
    {
     "data": {
      "text/plain": "4"
     },
     "execution_count": 58,
     "metadata": {},
     "output_type": "execute_result"
    }
   ],
   "source": [
    "t[0]"
   ]
  },
  {
   "cell_type": "code",
   "execution_count": 59,
   "id": "1dbc0672",
   "metadata": {},
   "outputs": [
    {
     "data": {
      "text/plain": "(4, 5, 6, 7)"
     },
     "execution_count": 59,
     "metadata": {},
     "output_type": "execute_result"
    }
   ],
   "source": [
    "t[0:4]"
   ]
  },
  {
   "cell_type": "code",
   "execution_count": 60,
   "id": "d4dc0937",
   "metadata": {},
   "outputs": [
    {
     "data": {
      "text/plain": "True"
     },
     "execution_count": 60,
     "metadata": {},
     "output_type": "execute_result"
    }
   ],
   "source": [
    "t[-1]"
   ]
  },
  {
   "cell_type": "code",
   "execution_count": 61,
   "id": "56772e1f",
   "metadata": {},
   "outputs": [
    {
     "data": {
      "text/plain": "(4, 5, 6, 7, 'sudh', 45.67, True)"
     },
     "execution_count": 61,
     "metadata": {},
     "output_type": "execute_result"
    }
   ],
   "source": [
    "t"
   ]
  },
  {
   "cell_type": "code",
   "execution_count": 62,
   "id": "a00177b9",
   "metadata": {},
   "outputs": [
    {
     "data": {
      "text/plain": "(4, 6, 'sudh')"
     },
     "execution_count": 62,
     "metadata": {},
     "output_type": "execute_result"
    }
   ],
   "source": [
    "t[0:6:2]"
   ]
  },
  {
   "cell_type": "code",
   "execution_count": 63,
   "id": "f2ce9d69",
   "metadata": {},
   "outputs": [
    {
     "data": {
      "text/plain": "()"
     },
     "execution_count": 63,
     "metadata": {},
     "output_type": "execute_result"
    }
   ],
   "source": [
    "t[0:4:-1]"
   ]
  },
  {
   "cell_type": "code",
   "execution_count": 64,
   "id": "bae4cfcd",
   "metadata": {},
   "outputs": [],
   "source": [
    "l = [1,2,3,456,78]"
   ]
  },
  {
   "cell_type": "code",
   "execution_count": 65,
   "id": "2e918dea",
   "metadata": {},
   "outputs": [],
   "source": [
    "l[2] = \"kumar\""
   ]
  },
  {
   "cell_type": "code",
   "execution_count": 66,
   "id": "e3eab494",
   "metadata": {},
   "outputs": [
    {
     "data": {
      "text/plain": "[1, 2, 'kumar', 456, 78]"
     },
     "execution_count": 66,
     "metadata": {},
     "output_type": "execute_result"
    }
   ],
   "source": [
    "l"
   ]
  },
  {
   "cell_type": "code",
   "execution_count": 67,
   "id": "1167cccd",
   "metadata": {},
   "outputs": [
    {
     "data": {
      "text/plain": "(4, 5, 6, 7, 'sudh', 45.67, True)"
     },
     "execution_count": 67,
     "metadata": {},
     "output_type": "execute_result"
    }
   ],
   "source": [
    "t"
   ]
  },
  {
   "cell_type": "code",
   "execution_count": 68,
   "id": "9473ba71",
   "metadata": {},
   "outputs": [
    {
     "ename": "TypeError",
     "evalue": "'tuple' object does not support item assignment",
     "output_type": "error",
     "traceback": [
      "\u001B[1;31m---------------------------------------------------------------------------\u001B[0m",
      "\u001B[1;31mTypeError\u001B[0m                                 Traceback (most recent call last)",
      "\u001B[1;32m~\\AppData\\Local\\Temp/ipykernel_3800/2918044846.py\u001B[0m in \u001B[0;36m<module>\u001B[1;34m\u001B[0m\n\u001B[1;32m----> 1\u001B[1;33m \u001B[0mt\u001B[0m\u001B[1;33m[\u001B[0m\u001B[1;36m2\u001B[0m\u001B[1;33m]\u001B[0m \u001B[1;33m=\u001B[0m \u001B[1;34m\"sudh\"\u001B[0m\u001B[1;33m\u001B[0m\u001B[1;33m\u001B[0m\u001B[0m\n\u001B[0m",
      "\u001B[1;31mTypeError\u001B[0m: 'tuple' object does not support item assignment"
     ]
    }
   ],
   "source": [
    "t[2] = \"sudh\""
   ]
  },
  {
   "cell_type": "code",
   "execution_count": 69,
   "id": "9839bd9a",
   "metadata": {},
   "outputs": [],
   "source": [
    "t1 = (3,4,5,6)"
   ]
  },
  {
   "cell_type": "code",
   "execution_count": 70,
   "id": "435af40a",
   "metadata": {},
   "outputs": [
    {
     "data": {
      "text/plain": "(4, 5, 6, 7, 'sudh', 45.67, True)"
     },
     "execution_count": 70,
     "metadata": {},
     "output_type": "execute_result"
    }
   ],
   "source": [
    "t"
   ]
  },
  {
   "cell_type": "code",
   "execution_count": 71,
   "id": "297d63ce",
   "metadata": {},
   "outputs": [
    {
     "data": {
      "text/plain": "(4, 5, 6, 7, 'sudh', 45.67, True, 3, 4, 5, 6)"
     },
     "execution_count": 71,
     "metadata": {},
     "output_type": "execute_result"
    }
   ],
   "source": [
    "t +t1"
   ]
  },
  {
   "cell_type": "code",
   "execution_count": 72,
   "id": "652e2a70",
   "metadata": {},
   "outputs": [
    {
     "data": {
      "text/plain": "0"
     },
     "execution_count": 72,
     "metadata": {},
     "output_type": "execute_result"
    }
   ],
   "source": [
    "t.count(3)"
   ]
  },
  {
   "cell_type": "code",
   "execution_count": 73,
   "id": "79f9ddd9",
   "metadata": {},
   "outputs": [
    {
     "data": {
      "text/plain": "1"
     },
     "execution_count": 73,
     "metadata": {},
     "output_type": "execute_result"
    }
   ],
   "source": [
    "t.count(4)"
   ]
  },
  {
   "cell_type": "code",
   "execution_count": 74,
   "id": "7fa78fcb",
   "metadata": {},
   "outputs": [
    {
     "data": {
      "text/plain": "1"
     },
     "execution_count": 74,
     "metadata": {},
     "output_type": "execute_result"
    }
   ],
   "source": [
    "t.index(5)"
   ]
  },
  {
   "cell_type": "code",
   "execution_count": 75,
   "id": "1cb27098",
   "metadata": {},
   "outputs": [],
   "source": [
    "t = t+t1"
   ]
  },
  {
   "cell_type": "code",
   "execution_count": 76,
   "id": "97631a5a",
   "metadata": {},
   "outputs": [
    {
     "data": {
      "text/plain": "(4, 5, 6, 7, 'sudh', 45.67, True, 3, 4, 5, 6)"
     },
     "execution_count": 76,
     "metadata": {},
     "output_type": "execute_result"
    }
   ],
   "source": [
    "t"
   ]
  },
  {
   "cell_type": "code",
   "execution_count": 77,
   "id": "bb941cde",
   "metadata": {},
   "outputs": [],
   "source": [
    "t = (3,4,56,7, \"sudh\")"
   ]
  },
  {
   "cell_type": "code",
   "execution_count": 78,
   "id": "c067bd42",
   "metadata": {},
   "outputs": [],
   "source": [
    "t2 = list(t)"
   ]
  },
  {
   "cell_type": "code",
   "execution_count": 79,
   "id": "aad7caf8",
   "metadata": {},
   "outputs": [
    {
     "data": {
      "text/plain": "[3, 4, 56, 7, 'sudh']"
     },
     "execution_count": 79,
     "metadata": {},
     "output_type": "execute_result"
    }
   ],
   "source": [
    "t2"
   ]
  },
  {
   "cell_type": "code",
   "execution_count": 80,
   "id": "b6f65bb5",
   "metadata": {},
   "outputs": [
    {
     "data": {
      "text/plain": "(3, 4, 56, 7, 'sudh')"
     },
     "execution_count": 80,
     "metadata": {},
     "output_type": "execute_result"
    }
   ],
   "source": [
    "tuple(t2)"
   ]
  },
  {
   "cell_type": "code",
   "execution_count": 81,
   "id": "4a8ae1c8",
   "metadata": {},
   "outputs": [
    {
     "data": {
      "text/plain": "\"[3, 4, 56, 7, 'sudh']\""
     },
     "execution_count": 81,
     "metadata": {},
     "output_type": "execute_result"
    }
   ],
   "source": [
    "str(t2)"
   ]
  },
  {
   "cell_type": "code",
   "execution_count": 82,
   "id": "f94734a8",
   "metadata": {},
   "outputs": [],
   "source": [
    "d = {}"
   ]
  },
  {
   "cell_type": "code",
   "execution_count": 83,
   "id": "ab59b7e6",
   "metadata": {},
   "outputs": [
    {
     "data": {
      "text/plain": "dict"
     },
     "execution_count": 83,
     "metadata": {},
     "output_type": "execute_result"
    }
   ],
   "source": [
    "type(d)"
   ]
  },
  {
   "cell_type": "code",
   "execution_count": 84,
   "id": "91d49265",
   "metadata": {},
   "outputs": [],
   "source": [
    "d1 = {1}"
   ]
  },
  {
   "cell_type": "code",
   "execution_count": 85,
   "id": "bcdb9c91",
   "metadata": {},
   "outputs": [
    {
     "data": {
      "text/plain": "set"
     },
     "execution_count": 85,
     "metadata": {},
     "output_type": "execute_result"
    }
   ],
   "source": [
    "type(d1)"
   ]
  },
  {
   "cell_type": "code",
   "execution_count": 86,
   "id": "64f5415c",
   "metadata": {},
   "outputs": [],
   "source": [
    "d2 = { 'key1' : \"value\"  , 234 : \"xyz\" , \"name\" : \"sudh\" , \"no\" : 34324345 }"
   ]
  },
  {
   "cell_type": "code",
   "execution_count": 87,
   "id": "06836918",
   "metadata": {},
   "outputs": [
    {
     "data": {
      "text/plain": "dict"
     },
     "execution_count": 87,
     "metadata": {},
     "output_type": "execute_result"
    }
   ],
   "source": [
    "type(d2)"
   ]
  },
  {
   "cell_type": "code",
   "execution_count": 88,
   "outputs": [
    {
     "data": {
      "text/plain": "{'key1': 'value', 234: 'xyz', 'name': 'sudh', 'no': 34324345}"
     },
     "execution_count": 88,
     "metadata": {},
     "output_type": "execute_result"
    }
   ],
   "source": [
    "d2"
   ],
   "metadata": {
    "collapsed": false
   }
  },
  {
   "cell_type": "code",
   "execution_count": 89,
   "outputs": [
    {
     "data": {
      "text/plain": "'xyz'"
     },
     "execution_count": 89,
     "metadata": {},
     "output_type": "execute_result"
    }
   ],
   "source": [
    "d2[234]"
   ],
   "metadata": {
    "collapsed": false
   }
  },
  {
   "cell_type": "code",
   "execution_count": 90,
   "outputs": [
    {
     "data": {
      "text/plain": "'sudh'"
     },
     "execution_count": 90,
     "metadata": {},
     "output_type": "execute_result"
    }
   ],
   "source": [
    "d2[\"name\"]"
   ],
   "metadata": {
    "collapsed": false
   }
  },
  {
   "cell_type": "code",
   "execution_count": 91,
   "id": "c5c796b8",
   "metadata": {},
   "outputs": [
    {
     "data": {
      "text/plain": "'sudh'"
     },
     "execution_count": 91,
     "metadata": {},
     "output_type": "execute_result"
    }
   ],
   "source": [
    "d2['name']"
   ]
  },
  {
   "cell_type": "code",
   "execution_count": 92,
   "id": "5a5e8f3f",
   "metadata": {},
   "outputs": [
    {
     "data": {
      "text/plain": "34324345"
     },
     "execution_count": 92,
     "metadata": {},
     "output_type": "execute_result"
    }
   ],
   "source": [
    "d2['no']"
   ]
  },
  {
   "cell_type": "code",
   "execution_count": 93,
   "id": "cacf47c4",
   "metadata": {},
   "outputs": [],
   "source": [
    "d3 = {'name': \"sujoy\" , 'tech' :[\"python\" , \"ML\" , \"DL\" , \"NLP\",\"CV\" , \"Big data\" , \"data analytics\"]}"
   ]
  },
  {
   "cell_type": "code",
   "execution_count": 94,
   "id": "4f178d36",
   "metadata": {},
   "outputs": [
    {
     "data": {
      "text/plain": "{'name': 'sujoy',\n 'tech': ['python', 'ML', 'DL', 'NLP', 'CV', 'Big data', 'data analytics']}"
     },
     "execution_count": 94,
     "metadata": {},
     "output_type": "execute_result"
    }
   ],
   "source": [
    "d3"
   ]
  },
  {
   "cell_type": "code",
   "execution_count": 95,
   "id": "568e6fb3",
   "metadata": {},
   "outputs": [
    {
     "data": {
      "text/plain": "True"
     },
     "execution_count": 95,
     "metadata": {},
     "output_type": "execute_result"
    }
   ],
   "source": [
    " \"python\" in d3['tech']"
   ]
  },
  {
   "cell_type": "code",
   "execution_count": 96,
   "id": "58048098",
   "metadata": {},
   "outputs": [],
   "source": [
    "d4 = {\"name\" :\"iNeuron\" , \"contact_info\" : 345345 , \"name\":\"sudh\"}"
   ]
  },
  {
   "cell_type": "code",
   "execution_count": 97,
   "id": "4798b515",
   "metadata": {},
   "outputs": [
    {
     "data": {
      "text/plain": "{'name': 'sudh', 'contact_info': 345345}"
     },
     "execution_count": 97,
     "metadata": {},
     "output_type": "execute_result"
    }
   ],
   "source": [
    "d4"
   ]
  },
  {
   "cell_type": "code",
   "execution_count": 98,
   "id": "8de717f3",
   "metadata": {},
   "outputs": [],
   "source": [
    "d4[\"name1\"] = \"xyz\""
   ]
  },
  {
   "cell_type": "code",
   "execution_count": 99,
   "id": "18345078",
   "metadata": {},
   "outputs": [
    {
     "data": {
      "text/plain": "{'name': 'sudh', 'contact_info': 345345, 'name1': 'xyz'}"
     },
     "execution_count": 99,
     "metadata": {},
     "output_type": "execute_result"
    }
   ],
   "source": [
    "d4"
   ]
  },
  {
   "cell_type": "code",
   "execution_count": 100,
   "id": "6dafbc0e",
   "metadata": {},
   "outputs": [],
   "source": [
    "d4['k2'] = d2"
   ]
  },
  {
   "cell_type": "code",
   "execution_count": 101,
   "id": "78e6782e",
   "metadata": {},
   "outputs": [
    {
     "data": {
      "text/plain": "{'key1': 'value', 234: 'xyz', 'name': 'sudh', 'no': 34324345}"
     },
     "execution_count": 101,
     "metadata": {},
     "output_type": "execute_result"
    }
   ],
   "source": [
    "d2"
   ]
  },
  {
   "cell_type": "code",
   "execution_count": 102,
   "id": "9d72711b",
   "metadata": {},
   "outputs": [
    {
     "data": {
      "text/plain": "{'name': 'sudh',\n 'contact_info': 345345,\n 'name1': 'xyz',\n 'k2': {'key1': 'value', 234: 'xyz', 'name': 'sudh', 'no': 34324345}}"
     },
     "execution_count": 102,
     "metadata": {},
     "output_type": "execute_result"
    }
   ],
   "source": [
    "d4"
   ]
  },
  {
   "cell_type": "code",
   "execution_count": 103,
   "id": "d533f35f",
   "metadata": {},
   "outputs": [
    {
     "data": {
      "text/plain": "34324345"
     },
     "execution_count": 103,
     "metadata": {},
     "output_type": "execute_result"
    }
   ],
   "source": [
    "d4['k2']['no']"
   ]
  },
  {
   "cell_type": "code",
   "execution_count": 104,
   "id": "6d5c805b",
   "metadata": {},
   "outputs": [],
   "source": [
    "d5 = {_: \"sdfsd\"}"
   ]
  },
  {
   "cell_type": "code",
   "execution_count": 105,
   "id": "142487c7",
   "metadata": {},
   "outputs": [
    {
     "data": {
      "text/plain": "'sdfsd'"
     },
     "execution_count": 105,
     "metadata": {},
     "output_type": "execute_result"
    }
   ],
   "source": [
    "d5[_]"
   ]
  },
  {
   "cell_type": "code",
   "execution_count": 106,
   "id": "31fb366d",
   "metadata": {},
   "outputs": [],
   "source": [
    "d6 = {(1,2,34) : \"fsdfs\"}"
   ]
  },
  {
   "cell_type": "code",
   "execution_count": 107,
   "id": "f271ffa3",
   "metadata": {},
   "outputs": [
    {
     "data": {
      "text/plain": "'fsdfs'"
     },
     "execution_count": 107,
     "metadata": {},
     "output_type": "execute_result"
    }
   ],
   "source": [
    "d6[(1,2,34)]"
   ]
  },
  {
   "cell_type": "code",
   "execution_count": 108,
   "id": "12d88c93",
   "metadata": {},
   "outputs": [
    {
     "ename": "TypeError",
     "evalue": "unhashable type: 'list'",
     "output_type": "error",
     "traceback": [
      "\u001B[1;31m---------------------------------------------------------------------------\u001B[0m",
      "\u001B[1;31mTypeError\u001B[0m                                 Traceback (most recent call last)",
      "\u001B[1;32m~\\AppData\\Local\\Temp/ipykernel_3800/1635238913.py\u001B[0m in \u001B[0;36m<module>\u001B[1;34m\u001B[0m\n\u001B[1;32m----> 1\u001B[1;33m \u001B[0md7\u001B[0m \u001B[1;33m=\u001B[0m \u001B[1;33m{\u001B[0m\u001B[1;33m[\u001B[0m\u001B[1;36m1\u001B[0m\u001B[1;33m,\u001B[0m\u001B[1;36m2\u001B[0m\u001B[1;33m,\u001B[0m\u001B[1;36m3\u001B[0m\u001B[1;33m,\u001B[0m\u001B[1;36m4\u001B[0m\u001B[1;33m]\u001B[0m \u001B[1;33m:\u001B[0m \u001B[1;34m\"fasdfasfas\"\u001B[0m\u001B[1;33m}\u001B[0m\u001B[1;33m\u001B[0m\u001B[1;33m\u001B[0m\u001B[0m\n\u001B[0m",
      "\u001B[1;31mTypeError\u001B[0m: unhashable type: 'list'"
     ]
    }
   ],
   "source": [
    "d7 = {[1,2,3,4] : \"fasdfasfas\"}"
   ]
  },
  {
   "cell_type": "code",
   "execution_count": 109,
   "id": "104ede11",
   "metadata": {},
   "outputs": [
    {
     "ename": "TypeError",
     "evalue": "unhashable type: 'dict'",
     "output_type": "error",
     "traceback": [
      "\u001B[1;31m---------------------------------------------------------------------------\u001B[0m",
      "\u001B[1;31mTypeError\u001B[0m                                 Traceback (most recent call last)",
      "\u001B[1;32m~\\AppData\\Local\\Temp/ipykernel_3800/1246348969.py\u001B[0m in \u001B[0;36m<module>\u001B[1;34m\u001B[0m\n\u001B[1;32m----> 1\u001B[1;33m \u001B[0md8\u001B[0m \u001B[1;33m=\u001B[0m \u001B[1;33m{\u001B[0m\u001B[1;33m{\u001B[0m\u001B[1;36m3\u001B[0m\u001B[1;33m:\u001B[0m\u001B[1;36m4\u001B[0m\u001B[1;33m}\u001B[0m \u001B[1;33m:\u001B[0m \u001B[1;34m\"fsdfs\"\u001B[0m\u001B[1;33m}\u001B[0m\u001B[1;33m\u001B[0m\u001B[1;33m\u001B[0m\u001B[0m\n\u001B[0m",
      "\u001B[1;31mTypeError\u001B[0m: unhashable type: 'dict'"
     ]
    }
   ],
   "source": [
    "d8 = {{3:4} : \"fsdfs\"}"
   ]
  },
  {
   "cell_type": "code",
   "execution_count": 110,
   "id": "8c830654",
   "metadata": {},
   "outputs": [
    {
     "data": {
      "text/plain": "{'key1': 'value', 234: 'xyz', 'name': 'sudh', 'no': 34324345}"
     },
     "execution_count": 110,
     "metadata": {},
     "output_type": "execute_result"
    }
   ],
   "source": [
    "d2"
   ]
  },
  {
   "cell_type": "code",
   "execution_count": 111,
   "id": "8e4d10b2",
   "metadata": {},
   "outputs": [
    {
     "data": {
      "text/plain": "{'key1': 'value', 234: 'xyz', 'name': 'sudh', 'no': 34324345}"
     },
     "execution_count": 111,
     "metadata": {},
     "output_type": "execute_result"
    }
   ],
   "source": [
    "d2"
   ]
  },
  {
   "cell_type": "code",
   "execution_count": 112,
   "id": "ffe45689",
   "metadata": {},
   "outputs": [
    {
     "data": {
      "text/plain": "{'name': 'sujoy',\n 'tech': ['python', 'ML', 'DL', 'NLP', 'CV', 'Big data', 'data analytics']}"
     },
     "execution_count": 112,
     "metadata": {},
     "output_type": "execute_result"
    }
   ],
   "source": [
    "d3"
   ]
  },
  {
   "cell_type": "code",
   "execution_count": 113,
   "id": "91d8669f",
   "metadata": {},
   "outputs": [
    {
     "ename": "TypeError",
     "evalue": "unsupported operand type(s) for +: 'dict' and 'dict'",
     "output_type": "error",
     "traceback": [
      "\u001B[1;31m---------------------------------------------------------------------------\u001B[0m",
      "\u001B[1;31mTypeError\u001B[0m                                 Traceback (most recent call last)",
      "\u001B[1;32m~\\AppData\\Local\\Temp/ipykernel_3800/1046070816.py\u001B[0m in \u001B[0;36m<module>\u001B[1;34m\u001B[0m\n\u001B[1;32m----> 1\u001B[1;33m \u001B[0md2\u001B[0m \u001B[1;33m+\u001B[0m\u001B[0md3\u001B[0m\u001B[1;33m\u001B[0m\u001B[1;33m\u001B[0m\u001B[0m\n\u001B[0m",
      "\u001B[1;31mTypeError\u001B[0m: unsupported operand type(s) for +: 'dict' and 'dict'"
     ]
    }
   ],
   "source": [
    "d2 +d3"
   ]
  },
  {
   "cell_type": "code",
   "execution_count": null,
   "id": "578323f7",
   "metadata": {},
   "outputs": [],
   "source": [
    "d2"
   ]
  },
  {
   "cell_type": "code",
   "execution_count": 114,
   "id": "106267a3",
   "metadata": {},
   "outputs": [
    {
     "data": {
      "text/plain": "dict_keys(['key1', 234, 'name', 'no'])"
     },
     "execution_count": 114,
     "metadata": {},
     "output_type": "execute_result"
    }
   ],
   "source": [
    "d2.keys()"
   ]
  },
  {
   "cell_type": "code",
   "execution_count": 115,
   "id": "27a9df33",
   "metadata": {},
   "outputs": [
    {
     "data": {
      "text/plain": "dict_values(['value', 'xyz', 'sudh', 34324345])"
     },
     "execution_count": 115,
     "metadata": {},
     "output_type": "execute_result"
    }
   ],
   "source": [
    "d2.values()"
   ]
  },
  {
   "cell_type": "code",
   "execution_count": 116,
   "id": "7e55f5cc",
   "metadata": {},
   "outputs": [
    {
     "data": {
      "text/plain": "dict_items([('key1', 'value'), (234, 'xyz'), ('name', 'sudh'), ('no', 34324345)])"
     },
     "execution_count": 116,
     "metadata": {},
     "output_type": "execute_result"
    }
   ],
   "source": [
    "d2.items()"
   ]
  },
  {
   "cell_type": "code",
   "execution_count": 117,
   "id": "5e99acaf",
   "metadata": {},
   "outputs": [],
   "source": [
    "s = {3,4,5,6,7,8}"
   ]
  },
  {
   "cell_type": "code",
   "execution_count": 118,
   "id": "e4a109b4",
   "metadata": {},
   "outputs": [
    {
     "data": {
      "text/plain": "set"
     },
     "execution_count": 118,
     "metadata": {},
     "output_type": "execute_result"
    }
   ],
   "source": [
    "type(s)"
   ]
  },
  {
   "cell_type": "code",
   "execution_count": 119,
   "id": "f458842a",
   "metadata": {},
   "outputs": [],
   "source": [
    "s1 = {3,4,4,5,6,6,7,7,8,8,9,9,0,0,0}"
   ]
  },
  {
   "cell_type": "code",
   "execution_count": 120,
   "id": "bade3af3",
   "metadata": {},
   "outputs": [
    {
     "data": {
      "text/plain": "{0, 3, 4, 5, 6, 7, 8, 9}"
     },
     "execution_count": 120,
     "metadata": {},
     "output_type": "execute_result"
    }
   ],
   "source": [
    "s1"
   ]
  },
  {
   "cell_type": "code",
   "execution_count": 121,
   "id": "6b5d0bcb",
   "metadata": {},
   "outputs": [],
   "source": [
    "s2 = { 3245,4545,6456,5645,675,6234,345}"
   ]
  },
  {
   "cell_type": "code",
   "execution_count": 122,
   "id": "1e28b01a",
   "metadata": {},
   "outputs": [
    {
     "data": {
      "text/plain": "{345, 675, 3245, 4545, 5645, 6234, 6456}"
     },
     "execution_count": 122,
     "metadata": {},
     "output_type": "execute_result"
    }
   ],
   "source": [
    "s2"
   ]
  },
  {
   "cell_type": "code",
   "execution_count": 123,
   "id": "29073bac",
   "metadata": {},
   "outputs": [],
   "source": [
    "s3 = {\"sudh\" , 324,34,12,645,12,5,'b' , '6'}"
   ]
  },
  {
   "cell_type": "code",
   "execution_count": 124,
   "id": "82b7b14f",
   "metadata": {},
   "outputs": [
    {
     "data": {
      "text/plain": "{12, 324, 34, 5, '6', 645, 'b', 'sudh'}"
     },
     "execution_count": 124,
     "metadata": {},
     "output_type": "execute_result"
    }
   ],
   "source": [
    "s3"
   ]
  },
  {
   "cell_type": "code",
   "execution_count": 125,
   "id": "cb028d0d",
   "metadata": {},
   "outputs": [
    {
     "ename": "TypeError",
     "evalue": "'set' object is not subscriptable",
     "output_type": "error",
     "traceback": [
      "\u001B[1;31m---------------------------------------------------------------------------\u001B[0m",
      "\u001B[1;31mTypeError\u001B[0m                                 Traceback (most recent call last)",
      "\u001B[1;32m~\\AppData\\Local\\Temp/ipykernel_3800/3233538983.py\u001B[0m in \u001B[0;36m<module>\u001B[1;34m\u001B[0m\n\u001B[1;32m----> 1\u001B[1;33m \u001B[0ms3\u001B[0m\u001B[1;33m[\u001B[0m\u001B[1;36m0\u001B[0m\u001B[1;33m]\u001B[0m\u001B[1;33m\u001B[0m\u001B[1;33m\u001B[0m\u001B[0m\n\u001B[0m",
      "\u001B[1;31mTypeError\u001B[0m: 'set' object is not subscriptable"
     ]
    }
   ],
   "source": [
    "s3[0]"
   ]
  },
  {
   "cell_type": "code",
   "execution_count": 126,
   "id": "77f5a2db",
   "metadata": {},
   "outputs": [
    {
     "data": {
      "text/plain": "[34, 324, 5, 645, 12, '6', 'sudh', 'b']"
     },
     "execution_count": 126,
     "metadata": {},
     "output_type": "execute_result"
    }
   ],
   "source": [
    "list(s3)"
   ]
  },
  {
   "cell_type": "code",
   "execution_count": 127,
   "id": "763168c1",
   "metadata": {},
   "outputs": [
    {
     "data": {
      "text/plain": "(34, 324, 5, 645, 12, '6', 'sudh', 'b')"
     },
     "execution_count": 127,
     "metadata": {},
     "output_type": "execute_result"
    }
   ],
   "source": [
    "tuple(s3)"
   ]
  },
  {
   "cell_type": "code",
   "execution_count": 128,
   "id": "397aad48",
   "metadata": {},
   "outputs": [],
   "source": [
    "l = [2,3,4,5656,7,6,7,7,7,77,7,7,7,7,7,7,7,7,7,7,7,7,7,7,7,7]"
   ]
  },
  {
   "cell_type": "code",
   "execution_count": 129,
   "id": "765debb1",
   "metadata": {},
   "outputs": [],
   "source": [
    "l = list(set(l))"
   ]
  },
  {
   "cell_type": "code",
   "execution_count": 130,
   "id": "e7fe1064",
   "metadata": {},
   "outputs": [
    {
     "data": {
      "text/plain": "[2, 3, 4, 6, 7, 77, 5656]"
     },
     "execution_count": 130,
     "metadata": {},
     "output_type": "execute_result"
    }
   ],
   "source": [
    "l"
   ]
  },
  {
   "cell_type": "code",
   "execution_count": 131,
   "id": "d9ed309c",
   "metadata": {},
   "outputs": [
    {
     "data": {
      "text/plain": "{345, 675, 3245, 4545, 5645, 6234, 6456}"
     },
     "execution_count": 131,
     "metadata": {},
     "output_type": "execute_result"
    }
   ],
   "source": [
    "s2"
   ]
  },
  {
   "cell_type": "code",
   "execution_count": 132,
   "id": "08082aff",
   "metadata": {},
   "outputs": [],
   "source": [
    "s2.add(34)"
   ]
  },
  {
   "cell_type": "code",
   "execution_count": 133,
   "id": "01783c98",
   "metadata": {},
   "outputs": [
    {
     "data": {
      "text/plain": "{34, 345, 675, 3245, 4545, 5645, 6234, 6456}"
     },
     "execution_count": 133,
     "metadata": {},
     "output_type": "execute_result"
    }
   ],
   "source": [
    "s2"
   ]
  },
  {
   "cell_type": "code",
   "execution_count": 134,
   "id": "67f99607",
   "metadata": {},
   "outputs": [
    {
     "ename": "TypeError",
     "evalue": "unhashable type: 'list'",
     "output_type": "error",
     "traceback": [
      "\u001B[1;31m---------------------------------------------------------------------------\u001B[0m",
      "\u001B[1;31mTypeError\u001B[0m                                 Traceback (most recent call last)",
      "\u001B[1;32m~\\AppData\\Local\\Temp/ipykernel_3800/2021685237.py\u001B[0m in \u001B[0;36m<module>\u001B[1;34m\u001B[0m\n\u001B[1;32m----> 1\u001B[1;33m \u001B[0ms2\u001B[0m\u001B[1;33m.\u001B[0m\u001B[0madd\u001B[0m\u001B[1;33m(\u001B[0m\u001B[1;33m[\u001B[0m\u001B[1;36m1\u001B[0m\u001B[1;33m,\u001B[0m\u001B[1;36m2\u001B[0m\u001B[1;33m,\u001B[0m\u001B[1;36m3\u001B[0m\u001B[1;33m,\u001B[0m\u001B[1;36m4\u001B[0m\u001B[1;33m,\u001B[0m\u001B[1;36m5\u001B[0m\u001B[1;33m]\u001B[0m\u001B[1;33m)\u001B[0m\u001B[1;33m\u001B[0m\u001B[1;33m\u001B[0m\u001B[0m\n\u001B[0m",
      "\u001B[1;31mTypeError\u001B[0m: unhashable type: 'list'"
     ]
    }
   ],
   "source": [
    "s2.add([1,2,3,4,5])"
   ]
  },
  {
   "cell_type": "code",
   "execution_count": 135,
   "id": "5cb18521",
   "metadata": {},
   "outputs": [],
   "source": [
    "s = {(1,2,3,4,5) , 3,4,45,65,6}"
   ]
  },
  {
   "cell_type": "code",
   "execution_count": 136,
   "id": "6f89af80",
   "metadata": {},
   "outputs": [
    {
     "data": {
      "text/plain": "{(1, 2, 3, 4, 5), 3, 4, 45, 6, 65}"
     },
     "execution_count": 136,
     "metadata": {},
     "output_type": "execute_result"
    }
   ],
   "source": [
    "s"
   ]
  },
  {
   "cell_type": "code",
   "execution_count": 137,
   "id": "6605f9c0",
   "metadata": {},
   "outputs": [
    {
     "ename": "TypeError",
     "evalue": "unhashable type: 'list'",
     "output_type": "error",
     "traceback": [
      "\u001B[1;31m---------------------------------------------------------------------------\u001B[0m",
      "\u001B[1;31mTypeError\u001B[0m                                 Traceback (most recent call last)",
      "\u001B[1;32m~\\AppData\\Local\\Temp/ipykernel_3800/1713387157.py\u001B[0m in \u001B[0;36m<module>\u001B[1;34m\u001B[0m\n\u001B[1;32m----> 1\u001B[1;33m \u001B[0ms1\u001B[0m \u001B[1;33m=\u001B[0m \u001B[1;33m{\u001B[0m\u001B[1;33m[\u001B[0m\u001B[1;36m1\u001B[0m\u001B[1;33m,\u001B[0m\u001B[1;36m2\u001B[0m\u001B[1;33m,\u001B[0m\u001B[1;36m3\u001B[0m\u001B[1;33m,\u001B[0m\u001B[1;36m4\u001B[0m\u001B[1;33m]\u001B[0m \u001B[1;33m,\u001B[0m \u001B[1;36m345\u001B[0m \u001B[1;33m,\u001B[0m\u001B[1;36m345\u001B[0m\u001B[1;33m}\u001B[0m\u001B[1;33m\u001B[0m\u001B[1;33m\u001B[0m\u001B[0m\n\u001B[0m",
      "\u001B[1;31mTypeError\u001B[0m: unhashable type: 'list'"
     ]
    }
   ],
   "source": [
    "s1 = {[1,2,3,4] , 345 ,345}"
   ]
  },
  {
   "cell_type": "code",
   "execution_count": null,
   "id": "a7486de5",
   "metadata": {},
   "outputs": [],
   "source": [
    "s"
   ]
  },
  {
   "cell_type": "code",
   "execution_count": 138,
   "id": "6b80fb6c",
   "metadata": {},
   "outputs": [
    {
     "ename": "KeyError",
     "evalue": "35345",
     "output_type": "error",
     "traceback": [
      "\u001B[1;31m---------------------------------------------------------------------------\u001B[0m",
      "\u001B[1;31mKeyError\u001B[0m                                  Traceback (most recent call last)",
      "\u001B[1;32m~\\AppData\\Local\\Temp/ipykernel_3800/2788955444.py\u001B[0m in \u001B[0;36m<module>\u001B[1;34m\u001B[0m\n\u001B[1;32m----> 1\u001B[1;33m \u001B[0ms\u001B[0m\u001B[1;33m.\u001B[0m\u001B[0mremove\u001B[0m\u001B[1;33m(\u001B[0m\u001B[1;36m35345\u001B[0m\u001B[1;33m)\u001B[0m\u001B[1;33m\u001B[0m\u001B[1;33m\u001B[0m\u001B[0m\n\u001B[0m",
      "\u001B[1;31mKeyError\u001B[0m: 35345"
     ]
    }
   ],
   "source": [
    "s.remove(35345)"
   ]
  },
  {
   "cell_type": "code",
   "execution_count": 139,
   "id": "1cfdf0d1",
   "metadata": {},
   "outputs": [
    {
     "data": {
      "text/plain": "{(1, 2, 3, 4, 5), 3, 4, 45, 6, 65}"
     },
     "execution_count": 139,
     "metadata": {},
     "output_type": "execute_result"
    }
   ],
   "source": [
    "s"
   ]
  },
  {
   "cell_type": "code",
   "execution_count": 140,
   "id": "5f422bcf",
   "metadata": {},
   "outputs": [],
   "source": [
    "s.discard(3452646)"
   ]
  },
  {
   "cell_type": "code",
   "execution_count": 141,
   "id": "58d36049",
   "metadata": {},
   "outputs": [
    {
     "data": {
      "text/plain": "65"
     },
     "execution_count": 141,
     "metadata": {},
     "output_type": "execute_result"
    }
   ],
   "source": [
    "s.pop()"
   ]
  },
  {
   "cell_type": "code",
   "execution_count": 142,
   "id": "97be1482",
   "metadata": {},
   "outputs": [
    {
     "data": {
      "text/plain": "{(1, 2, 3, 4, 5), 3, 4, 45, 6}"
     },
     "execution_count": 142,
     "metadata": {},
     "output_type": "execute_result"
    }
   ],
   "source": [
    "s"
   ]
  },
  {
   "cell_type": "code",
   "execution_count": 143,
   "id": "b313243a",
   "metadata": {},
   "outputs": [
    {
     "data": {
      "text/plain": "set"
     },
     "execution_count": 143,
     "metadata": {},
     "output_type": "execute_result"
    }
   ],
   "source": [
    "type(s)"
   ]
  },
  {
   "cell_type": "code",
   "execution_count": 144,
   "id": "58558c61",
   "metadata": {},
   "outputs": [],
   "source": [
    "l = list(s)"
   ]
  },
  {
   "cell_type": "code",
   "execution_count": 145,
   "id": "4ebbf5eb",
   "metadata": {},
   "outputs": [
    {
     "data": {
      "text/plain": "[3, 4, 6, (1, 2, 3, 4, 5), 45]"
     },
     "execution_count": 145,
     "metadata": {},
     "output_type": "execute_result"
    }
   ],
   "source": [
    "l"
   ]
  },
  {
   "cell_type": "code",
   "execution_count": 146,
   "id": "7d81401f",
   "metadata": {},
   "outputs": [
    {
     "data": {
      "text/plain": "{(1, 2, 3, 4, 5), 3, 4, 45, 6}"
     },
     "execution_count": 146,
     "metadata": {},
     "output_type": "execute_result"
    }
   ],
   "source": [
    "set(l)"
   ]
  },
  {
   "cell_type": "code",
   "execution_count": 146,
   "id": "93463c95",
   "metadata": {},
   "outputs": [],
   "source": []
  },
  {
   "cell_type": "code",
   "execution_count": 147,
   "id": "97f2fe7e",
   "metadata": {},
   "outputs": [
    {
     "data": {
      "text/plain": "set"
     },
     "execution_count": 147,
     "metadata": {},
     "output_type": "execute_result"
    }
   ],
   "source": [
    "str\n",
    "list \n",
    "tuple\n",
    "dict\n",
    "set"
   ]
  },
  {
   "cell_type": "code",
   "execution_count": 148,
   "id": "a4c3b614",
   "metadata": {},
   "outputs": [
    {
     "data": {
      "text/plain": "{'key1': 'value', 234: 'xyz', 'name': 'sudh', 'no': 34324345}"
     },
     "execution_count": 148,
     "metadata": {},
     "output_type": "execute_result"
    }
   ],
   "source": [
    "d2"
   ]
  },
  {
   "cell_type": "code",
   "execution_count": 149,
   "id": "64e6705d",
   "metadata": {},
   "outputs": [],
   "source": [
    "d2[\"key4\"] = \"sdfsf\""
   ]
  },
  {
   "cell_type": "code",
   "execution_count": 150,
   "id": "68cd3b00",
   "metadata": {},
   "outputs": [
    {
     "data": {
      "text/plain": "{'key1': 'value', 234: 'xyz', 'name': 'sudh', 'no': 34324345, 'key4': 'sdfsf'}"
     },
     "execution_count": 150,
     "metadata": {},
     "output_type": "execute_result"
    }
   ],
   "source": [
    "d2"
   ]
  },
  {
   "cell_type": "code",
   "execution_count": 151,
   "id": "560d9678",
   "metadata": {},
   "outputs": [],
   "source": [
    "d2[\"key1\"]  = \"ineuron\""
   ]
  },
  {
   "cell_type": "code",
   "execution_count": 152,
   "id": "9fbd13e1",
   "metadata": {},
   "outputs": [
    {
     "data": {
      "text/plain": "{'key1': 'ineuron',\n 234: 'xyz',\n 'name': 'sudh',\n 'no': 34324345,\n 'key4': 'sdfsf'}"
     },
     "execution_count": 152,
     "metadata": {},
     "output_type": "execute_result"
    }
   ],
   "source": [
    "d2"
   ]
  },
  {
   "cell_type": "code",
   "execution_count": 153,
   "id": "2f69f179",
   "metadata": {},
   "outputs": [
    {
     "ename": "TypeError",
     "evalue": "'<' not supported between instances of 'str' and 'float'",
     "output_type": "error",
     "traceback": [
      "\u001B[1;31m---------------------------------------------------------------------------\u001B[0m",
      "\u001B[1;31mTypeError\u001B[0m                                 Traceback (most recent call last)",
      "\u001B[1;32m~\\AppData\\Local\\Temp/ipykernel_3800/348579885.py\u001B[0m in \u001B[0;36m<module>\u001B[1;34m\u001B[0m\n\u001B[1;32m----> 1\u001B[1;33m \u001B[0ml3\u001B[0m\u001B[1;33m.\u001B[0m\u001B[0msort\u001B[0m\u001B[1;33m(\u001B[0m\u001B[0mreverse\u001B[0m\u001B[1;33m=\u001B[0m\u001B[1;32mTrue\u001B[0m\u001B[1;33m)\u001B[0m\u001B[1;33m\u001B[0m\u001B[1;33m\u001B[0m\u001B[0m\n\u001B[0m\u001B[0;32m      2\u001B[0m \u001B[1;33m\u001B[0m\u001B[0m\n",
      "\u001B[1;31mTypeError\u001B[0m: '<' not supported between instances of 'str' and 'float'"
     ]
    }
   ],
   "source": [
    "l3.sort(reverse=True) \n"
   ]
  },
  {
   "cell_type": "code",
   "execution_count": null,
   "id": "d6a0cee8",
   "metadata": {},
   "outputs": [],
   "source": [
    "l3"
   ]
  },
  {
   "cell_type": "code",
   "execution_count": 154,
   "outputs": [
    {
     "ename": "TypeError",
     "evalue": "'<' not supported between instances of 'str' and 'int'",
     "output_type": "error",
     "traceback": [
      "\u001B[1;31m---------------------------------------------------------------------------\u001B[0m",
      "\u001B[1;31mTypeError\u001B[0m                                 Traceback (most recent call last)",
      "\u001B[1;32m~\\AppData\\Local\\Temp/ipykernel_3800/73533535.py\u001B[0m in \u001B[0;36m<module>\u001B[1;34m\u001B[0m\n\u001B[1;32m----> 1\u001B[1;33m \u001B[0ml3\u001B[0m\u001B[1;33m.\u001B[0m\u001B[0msort\u001B[0m\u001B[1;33m(\u001B[0m\u001B[1;33m)\u001B[0m\u001B[1;33m\u001B[0m\u001B[1;33m\u001B[0m\u001B[0m\n\u001B[0m\u001B[0;32m      2\u001B[0m \u001B[0ml3\u001B[0m\u001B[1;33m\u001B[0m\u001B[1;33m\u001B[0m\u001B[0m\n",
      "\u001B[1;31mTypeError\u001B[0m: '<' not supported between instances of 'str' and 'int'"
     ]
    }
   ],
   "source": [
    "l3.sort()\n",
    "l3"
   ],
   "metadata": {
    "collapsed": false
   }
  },
  {
   "cell_type": "code",
   "execution_count": null,
   "id": "7f943f23",
   "metadata": {},
   "outputs": [],
   "source": [
    "#Questions \n",
    "\n",
    "l = [3,4,5,6,7 , [23,456,67,8,78,78] , [345,56,87,8,98,9] , (234,6657,6) , {\"key1\" :\"sudh\" , 234:[23,45,656]}]\n",
    "1 . Try to reverse a list \n",
    "2. try to access 234 out of this list \n",
    "3 . try to access 456 \n",
    "4 . Try to extract only a list collection form list l \n",
    "5 . Try to extract \"sudh\"\n",
    "6 . Try to list all the key in dict element avaible in list \n",
    "7 . Try to extract all the value element form dict available in list"
   ]
  },
  {
   "cell_type": "code",
   "execution_count": 192,
   "outputs": [],
   "source": [
    "lst = [3,4,5,6,7 , [23,456,67,8,78,78] , [345,56,87,8,98,9] , (234,6657,6) , {\"key1\" :\"sudh\" , 234:[23,45,656]}]"
   ],
   "metadata": {
    "collapsed": false
   }
  },
  {
   "cell_type": "code",
   "execution_count": 193,
   "outputs": [
    {
     "data": {
      "text/plain": "['k', ['s', 'd', 1, 2, 3], 'dfg', 45, [1, 5, 345], 'd', 'a', 1]"
     },
     "execution_count": 193,
     "metadata": {},
     "output_type": "execute_result"
    }
   ],
   "source": [
    "# reverse a list\n",
    "rev_lst = l[::-1]\n",
    "rev_lst"
   ],
   "metadata": {
    "collapsed": false
   }
  },
  {
   "cell_type": "code",
   "execution_count": 214,
   "outputs": [
    {
     "data": {
      "text/plain": "dict_keys(['key1', 234])"
     },
     "execution_count": 214,
     "metadata": {},
     "output_type": "execute_result"
    }
   ],
   "source": [
    "# Try to list all the key in dict element avaible in list\n",
    "\n",
    "lst[8].keys()"
   ],
   "metadata": {
    "collapsed": false
   }
  },
  {
   "cell_type": "code",
   "execution_count": 213,
   "outputs": [
    {
     "data": {
      "text/plain": "'sudh'"
     },
     "execution_count": 213,
     "metadata": {},
     "output_type": "execute_result"
    }
   ],
   "source": [
    "#  try to access 234 out of this list\n",
    "lst[8]['key1']  # key of a dictionary the sub element of the list is\n",
    "\n"
   ],
   "metadata": {
    "collapsed": false
   }
  },
  {
   "cell_type": "code",
   "execution_count": 215,
   "outputs": [
    {
     "data": {
      "text/plain": "dict_values(['sudh', [23, 45, 656]])"
     },
     "execution_count": 215,
     "metadata": {},
     "output_type": "execute_result"
    }
   ],
   "source": [
    "#7 . Try to extract all the value element form dict available in list\n",
    "\n",
    "lst[8].values()"
   ],
   "metadata": {
    "collapsed": false
   }
  },
  {
   "cell_type": "code",
   "execution_count": 202,
   "outputs": [
    {
     "data": {
      "text/plain": "234"
     },
     "execution_count": 202,
     "metadata": {},
     "output_type": "execute_result"
    }
   ],
   "source": [
    "lst[7][0]"
   ],
   "metadata": {
    "collapsed": false
   }
  },
  {
   "cell_type": "code",
   "execution_count": 205,
   "outputs": [
    {
     "data": {
      "text/plain": "456"
     },
     "execution_count": 205,
     "metadata": {},
     "output_type": "execute_result"
    }
   ],
   "source": [
    "# try to access 456\n",
    "lst[5][1]"
   ],
   "metadata": {
    "collapsed": false
   }
  },
  {
   "cell_type": "code",
   "execution_count": 207,
   "outputs": [
    {
     "name": "stdout",
     "output_type": "stream",
     "text": [
      "[23, 456, 67, 8, 78, 78]\n",
      "[345, 56, 87, 8, 98, 9]\n"
     ]
    }
   ],
   "source": [
    "# Try to extract only a list collection form list l\n",
    "for item in lst:\n",
    "    if type(item) == list:\n",
    "        print(item)\n"
   ],
   "metadata": {
    "collapsed": false
   }
  },
  {
   "cell_type": "code",
   "execution_count": 208,
   "outputs": [
    {
     "ename": "ValueError",
     "evalue": "'sudh' is not in list",
     "output_type": "error",
     "traceback": [
      "\u001B[1;31m---------------------------------------------------------------------------\u001B[0m",
      "\u001B[1;31mValueError\u001B[0m                                Traceback (most recent call last)",
      "\u001B[1;32m~\\AppData\\Local\\Temp/ipykernel_3800/2833062933.py\u001B[0m in \u001B[0;36m<module>\u001B[1;34m\u001B[0m\n\u001B[0;32m      1\u001B[0m \u001B[1;31m# 5 . Try to extract \"sudh\"\u001B[0m\u001B[1;33m\u001B[0m\u001B[1;33m\u001B[0m\u001B[1;33m\u001B[0m\u001B[0m\n\u001B[0;32m      2\u001B[0m \u001B[1;33m\u001B[0m\u001B[0m\n\u001B[1;32m----> 3\u001B[1;33m \u001B[0mlst\u001B[0m\u001B[1;33m.\u001B[0m\u001B[0mindex\u001B[0m\u001B[1;33m(\u001B[0m\u001B[1;34m'sudh'\u001B[0m\u001B[1;33m)\u001B[0m\u001B[1;33m\u001B[0m\u001B[1;33m\u001B[0m\u001B[0m\n\u001B[0m",
      "\u001B[1;31mValueError\u001B[0m: 'sudh' is not in list"
     ]
    }
   ],
   "source": [
    "# 5 . Try to extract \"sudh\"\n",
    "\n",
    "lst.index('sudh')"
   ],
   "metadata": {
    "collapsed": false
   }
  },
  {
   "cell_type": "code",
   "execution_count": 155,
   "id": "9200213c",
   "metadata": {},
   "outputs": [],
   "source": [
    "s = \"surya\"\n",
    "s1 = \"su\""
   ]
  },
  {
   "cell_type": "code",
   "execution_count": 156,
   "id": "49a6fc4b",
   "metadata": {},
   "outputs": [
    {
     "data": {
      "text/plain": "'suryasu'"
     },
     "execution_count": 156,
     "metadata": {},
     "output_type": "execute_result"
    }
   ],
   "source": [
    "s+s1"
   ]
  },
  {
   "cell_type": "code",
   "execution_count": 157,
   "id": "56b07f96",
   "metadata": {},
   "outputs": [
    {
     "data": {
      "text/plain": "{'key1': 'ineuron',\n 234: 'xyz',\n 'name': 'sudh',\n 'no': 34324345,\n 'key4': 'sdfsf'}"
     },
     "execution_count": 157,
     "metadata": {},
     "output_type": "execute_result"
    }
   ],
   "source": [
    "d2\n"
   ]
  },
  {
   "cell_type": "code",
   "execution_count": 157,
   "outputs": [],
   "source": [],
   "metadata": {
    "collapsed": false
   }
  },
  {
   "cell_type": "code",
   "execution_count": 158,
   "id": "16a048a3",
   "metadata": {},
   "outputs": [
    {
     "data": {
      "text/plain": "{'k': None, '1': None}"
     },
     "execution_count": 158,
     "metadata": {},
     "output_type": "execute_result"
    }
   ],
   "source": [
    "d2.fromkeys(\"k1\")"
   ]
  },
  {
   "cell_type": "code",
   "execution_count": 159,
   "outputs": [
    {
     "data": {
      "text/plain": "{'key1': 'ineuron',\n 234: 'xyz',\n 'name': 'sudh',\n 'no': 34324345,\n 'key4': 'sdfsf'}"
     },
     "execution_count": 159,
     "metadata": {},
     "output_type": "execute_result"
    }
   ],
   "source": [
    "d2"
   ],
   "metadata": {
    "collapsed": false
   }
  },
  {
   "cell_type": "code",
   "execution_count": 160,
   "id": "e86c7f90",
   "metadata": {},
   "outputs": [],
   "source": [
    "d2['k'] = \"sudh\""
   ]
  },
  {
   "cell_type": "code",
   "execution_count": 161,
   "id": "ec5e82db",
   "metadata": {},
   "outputs": [
    {
     "data": {
      "text/plain": "{'key1': 'ineuron',\n 234: 'xyz',\n 'name': 'sudh',\n 'no': 34324345,\n 'key4': 'sdfsf',\n 'k': 'sudh'}"
     },
     "execution_count": 161,
     "metadata": {},
     "output_type": "execute_result"
    }
   ],
   "source": [
    "d2"
   ]
  },
  {
   "cell_type": "code",
   "execution_count": 162,
   "id": "6ad8c275",
   "metadata": {},
   "outputs": [
    {
     "name": "stdout",
     "output_type": "stream",
     "text": [
      "Area of the triangle is,  191.97656106931387\n"
     ]
    }
   ],
   "source": [
    "side1 = float(input(\"Enter first side of triangle: \"))\n",
    "side2 = float(input(\"Enter second side of triangle: \"))\n",
    "side3 = float(input(\"Enter third side of triangle: \"))\n",
    "s = (side1+side2+side3)/2\n",
    "ar = (s*(s-side1)*(s-side2)*(s-side3)) ** 0.5\n",
    "print(\"Area of the triangle is, \", ar)"
   ]
  },
  {
   "cell_type": "code",
   "execution_count": 163,
   "id": "332f7e8d",
   "metadata": {},
   "outputs": [],
   "source": [
    "l = [1,2,3,4,5]"
   ]
  },
  {
   "cell_type": "code",
   "execution_count": 164,
   "id": "4a8936d5",
   "metadata": {},
   "outputs": [],
   "source": [
    "l.insert(-1 , \"sudh\")"
   ]
  },
  {
   "cell_type": "code",
   "execution_count": 165,
   "id": "d5c73400",
   "metadata": {},
   "outputs": [
    {
     "data": {
      "text/plain": "[1, 2, 3, 4, 'sudh', 5]"
     },
     "execution_count": 165,
     "metadata": {},
     "output_type": "execute_result"
    }
   ],
   "source": [
    "l"
   ]
  },
  {
   "cell_type": "code",
   "execution_count": 166,
   "id": "507c5394",
   "metadata": {},
   "outputs": [],
   "source": [
    "for i in l:\n",
    "    if type(i)==list:\n",
    "        print(i)\n",
    "    else:\n",
    "        if type(i)==dict:\n",
    "            if type(i.values()==list):\n",
    "                for j in i.values():\n",
    "                    if type(j)==list:\n",
    "                        print(list(j))"
   ]
  },
  {
   "cell_type": "code",
   "execution_count": 167,
   "id": "a92567e4",
   "metadata": {},
   "outputs": [
    {
     "ename": "TypeError",
     "evalue": "unhashable type: 'list'",
     "output_type": "error",
     "traceback": [
      "\u001B[1;31m---------------------------------------------------------------------------\u001B[0m",
      "\u001B[1;31mTypeError\u001B[0m                                 Traceback (most recent call last)",
      "\u001B[1;32m~\\AppData\\Local\\Temp/ipykernel_3800/1028963934.py\u001B[0m in \u001B[0;36m<module>\u001B[1;34m\u001B[0m\n\u001B[1;32m----> 1\u001B[1;33m \u001B[0md6\u001B[0m \u001B[1;33m=\u001B[0m \u001B[1;33m{\u001B[0m\u001B[0m_\u001B[0m \u001B[1;33m:\u001B[0m \u001B[1;34m\"fdsdf\"\u001B[0m\u001B[1;33m}\u001B[0m\u001B[1;33m\u001B[0m\u001B[1;33m\u001B[0m\u001B[0m\n\u001B[0m",
      "\u001B[1;31mTypeError\u001B[0m: unhashable type: 'list'"
     ]
    }
   ],
   "source": [
    "d6 = {_ : \"fdsdf\"}"
   ]
  },
  {
   "cell_type": "code",
   "execution_count": 168,
   "id": "dd0fe47b",
   "metadata": {},
   "outputs": [
    {
     "data": {
      "text/plain": "{(1, 2, 34): 'fsdfs'}"
     },
     "execution_count": 168,
     "metadata": {},
     "output_type": "execute_result"
    }
   ],
   "source": [
    "d6"
   ]
  },
  {
   "cell_type": "code",
   "execution_count": 169,
   "id": "5f315ca0",
   "metadata": {},
   "outputs": [],
   "source": [
    "t = ( 4,5,6)"
   ]
  },
  {
   "cell_type": "code",
   "execution_count": 170,
   "id": "209d4327",
   "metadata": {},
   "outputs": [],
   "source": [
    "t1 =( 6, )"
   ]
  },
  {
   "cell_type": "code",
   "execution_count": 171,
   "id": "8269c970",
   "metadata": {},
   "outputs": [
    {
     "data": {
      "text/plain": "tuple"
     },
     "execution_count": 171,
     "metadata": {},
     "output_type": "execute_result"
    }
   ],
   "source": [
    "type(t1)"
   ]
  },
  {
   "cell_type": "code",
   "execution_count": 172,
   "id": "5e8fca84",
   "metadata": {},
   "outputs": [
    {
     "name": "stdout",
     "output_type": "stream",
     "text": [
      "Vishnu\n",
      "{'name': 'Vishnu', 'title': 'Data Analyst', 'course': 'FSDS', 'key1': {...}}\n"
     ]
    }
   ],
   "source": [
    "#Question\n",
    "D_NEW = {'name':'Vishnu','title':'Data Analyst','course':'FSDS'}\n",
    "D_NEW['key1'] = D_NEW\n",
    "print(D_NEW['name'])\n",
    "print(D_NEW['key1'])"
   ]
  },
  {
   "cell_type": "code",
   "execution_count": 173,
   "id": "3d3e8a32",
   "metadata": {},
   "outputs": [
    {
     "name": "stdout",
     "output_type": "stream",
     "text": [
      "Vishnu\n",
      "{'name': 'Vishnu', 'title': 'Data Analyst', 'course': 'FSDS', 'key1': {...}}\n"
     ]
    }
   ],
   "source": [
    "print(D_NEW['name'])\n",
    "print(D_NEW['key1'])"
   ]
  },
  {
   "cell_type": "code",
   "execution_count": 174,
   "id": "c9908776",
   "metadata": {},
   "outputs": [
    {
     "data": {
      "text/plain": "{'name': 'Vishnu', 'title': 'Data Analyst', 'course': 'FSDS', 'key1': {...}}"
     },
     "execution_count": 174,
     "metadata": {},
     "output_type": "execute_result"
    }
   ],
   "source": [
    "D_NEW"
   ]
  },
  {
   "cell_type": "code",
   "execution_count": 175,
   "id": "d267e698",
   "metadata": {},
   "outputs": [
    {
     "data": {
      "text/plain": "list"
     },
     "execution_count": 175,
     "metadata": {},
     "output_type": "execute_result"
    }
   ],
   "source": [
    "t1=(3,5,67.8,789,'876dfghj')\n",
    "t=t+t1\n",
    "type(t)\n",
    "t.count(3)\n",
    "t2=list(t)\n",
    "t2\n",
    "tuple(t2)\n",
    "str(t2)\n",
    "tuple(t2)\n",
    "type(t2)"
   ]
  },
  {
   "cell_type": "code",
   "execution_count": 176,
   "id": "efe61ca0",
   "metadata": {},
   "outputs": [],
   "source": [
    "s = {3,4,5,6,7,7}"
   ]
  },
  {
   "cell_type": "code",
   "execution_count": 177,
   "id": "80bedec8",
   "metadata": {},
   "outputs": [
    {
     "data": {
      "text/plain": "{3, 4, 5, 6, 7}"
     },
     "execution_count": 177,
     "metadata": {},
     "output_type": "execute_result"
    }
   ],
   "source": [
    "s"
   ]
  },
  {
   "cell_type": "code",
   "execution_count": 178,
   "id": "a1e96e0d",
   "metadata": {},
   "outputs": [
    {
     "data": {
      "text/plain": "3"
     },
     "execution_count": 178,
     "metadata": {},
     "output_type": "execute_result"
    }
   ],
   "source": [
    "list(s)[0]"
   ]
  },
  {
   "cell_type": "code",
   "execution_count": 179,
   "id": "43d5ede3",
   "metadata": {},
   "outputs": [
    {
     "data": {
      "text/plain": "34.57"
     },
     "execution_count": 179,
     "metadata": {},
     "output_type": "execute_result"
    }
   ],
   "source": [
    "round(34.5656567 , 2)"
   ]
  },
  {
   "cell_type": "code",
   "execution_count": 180,
   "id": "c8c4163c",
   "metadata": {},
   "outputs": [
    {
     "name": "stdout",
     "output_type": "stream",
     "text": [
      "{'name': 'rupe', 'contact_info': 34345, 'loc': 'Calgary', 'check': {...}}\n",
      "dict_keys(['name', 'contact_info', 'loc', 'check'])\n",
      "dict_items([('name', 'rupe'), ('contact_info', 34345), ('loc', 'Calgary'), ('check', {'name': 'rupe', 'contact_info': 34345, 'loc': 'Calgary', 'check': {...}})])\n",
      "<class 'dict_keys'>\n",
      "<class 'dict_items'>\n"
     ]
    }
   ],
   "source": [
    "###### MY QUESTIONS #####\n",
    "d4={\"name\":\"iNeuron\", \"contact_info\":34345,\"name\":\"rupe\"}\n",
    "d4['loc']='Calgary'\n",
    "d4['check'] = d4\n",
    "#### LOOP ####\n",
    "print(d4['check'])\n",
    "#### TYPE ####\n",
    "print(d4.keys())\n",
    "print(d4.items())\n",
    "print(type(d2.keys()))\n",
    "print(type(d2.items()))\n",
    "#### SIGNATURE #########\n",
    "n=[4, 5, 7, 9, 2, 3, 4, 5, 2, 1, 9, 6, 7, 0]\n",
    "n.pop()\n",
    "n.sort()\n"
   ]
  },
  {
   "cell_type": "code",
   "execution_count": 181,
   "outputs": [
    {
     "data": {
      "text/plain": "{'name': 'rupe', 'contact_info': 34345, 'loc': 'Calgary', 'check': {...}}"
     },
     "execution_count": 181,
     "metadata": {},
     "output_type": "execute_result"
    }
   ],
   "source": [
    "d4['check']"
   ],
   "metadata": {
    "collapsed": false
   }
  },
  {
   "cell_type": "code",
   "execution_count": 182,
   "id": "a64cb675",
   "metadata": {},
   "outputs": [],
   "source": [
    "d2 = { \"k1\" :\"fsdfs\" , \"k2 \" : [4,5,56]}"
   ]
  },
  {
   "cell_type": "code",
   "execution_count": 183,
   "id": "98a20a59",
   "metadata": {},
   "outputs": [],
   "source": [
    "l = d2.keys()"
   ]
  },
  {
   "cell_type": "code",
   "execution_count": 184,
   "id": "185a92a9",
   "metadata": {},
   "outputs": [
    {
     "data": {
      "text/plain": "'k1'"
     },
     "execution_count": 184,
     "metadata": {},
     "output_type": "execute_result"
    }
   ],
   "source": [
    "list(l)[0]"
   ]
  },
  {
   "cell_type": "code",
   "execution_count": 185,
   "id": "7d41c824",
   "metadata": {},
   "outputs": [],
   "source": [
    "n=[4, 5, 7, 9, 2, 3, 4, 5, 2, 1, 9, 6, 7, 0]\n",
    "n.pop()\n",
    "n.sort()"
   ]
  },
  {
   "cell_type": "code",
   "execution_count": 186,
   "id": "93683d30",
   "metadata": {},
   "outputs": [],
   "source": [
    "s = { 1,2,None, 3,4}"
   ]
  },
  {
   "cell_type": "code",
   "execution_count": 187,
   "id": "a2142043",
   "metadata": {},
   "outputs": [
    {
     "ename": "NameError",
     "evalue": "name 'umesh' is not defined",
     "output_type": "error",
     "traceback": [
      "\u001B[1;31m---------------------------------------------------------------------------\u001B[0m",
      "\u001B[1;31mNameError\u001B[0m                                 Traceback (most recent call last)",
      "\u001B[1;32m~\\AppData\\Local\\Temp/ipykernel_3800/1633863330.py\u001B[0m in \u001B[0;36m<module>\u001B[1;34m\u001B[0m\n\u001B[0;32m      1\u001B[0m \u001B[0ml\u001B[0m \u001B[1;33m=\u001B[0m \u001B[1;33m[\u001B[0m\u001B[1;36m3\u001B[0m\u001B[1;33m,\u001B[0m\u001B[1;36m4\u001B[0m\u001B[1;33m,\u001B[0m\u001B[1;36m5\u001B[0m\u001B[1;33m,\u001B[0m\u001B[1;36m6\u001B[0m\u001B[1;33m,\u001B[0m\u001B[1;36m7\u001B[0m\u001B[1;33m,\u001B[0m \u001B[1;33m[\u001B[0m\u001B[1;36m23\u001B[0m\u001B[1;33m,\u001B[0m\u001B[1;36m456\u001B[0m\u001B[1;33m,\u001B[0m\u001B[1;36m67\u001B[0m\u001B[1;33m,\u001B[0m\u001B[1;36m8\u001B[0m\u001B[1;33m,\u001B[0m\u001B[1;36m78\u001B[0m\u001B[1;33m,\u001B[0m\u001B[1;36m78\u001B[0m\u001B[1;33m]\u001B[0m\u001B[1;33m,\u001B[0m \u001B[1;33m[\u001B[0m\u001B[1;36m345\u001B[0m\u001B[1;33m,\u001B[0m\u001B[1;36m56\u001B[0m\u001B[1;33m,\u001B[0m\u001B[1;36m87\u001B[0m\u001B[1;33m,\u001B[0m\u001B[1;36m8\u001B[0m\u001B[1;33m,\u001B[0m\u001B[1;36m98\u001B[0m\u001B[1;33m,\u001B[0m\u001B[1;36m9\u001B[0m\u001B[1;33m]\u001B[0m\u001B[1;33m,\u001B[0m\u001B[1;33m(\u001B[0m\u001B[1;36m234\u001B[0m\u001B[1;33m,\u001B[0m\u001B[1;36m6657\u001B[0m\u001B[1;33m,\u001B[0m\u001B[1;36m6\u001B[0m\u001B[1;33m)\u001B[0m\u001B[1;33m,\u001B[0m\u001B[1;33m{\u001B[0m\u001B[1;34m'key1'\u001B[0m\u001B[1;33m:\u001B[0m\u001B[1;34m'sudh'\u001B[0m\u001B[1;33m,\u001B[0m \u001B[1;36m234\u001B[0m\u001B[1;33m:\u001B[0m\u001B[1;33m[\u001B[0m\u001B[1;33m]\u001B[0m\u001B[1;33m}\u001B[0m\u001B[1;33m]\u001B[0m\u001B[1;33m\u001B[0m\u001B[1;33m\u001B[0m\u001B[0m\n\u001B[1;32m----> 2\u001B[1;33m \u001B[0mumesh\u001B[0m\u001B[1;33m\u001B[0m\u001B[1;33m\u001B[0m\u001B[0m\n\u001B[0m\u001B[0;32m      3\u001B[0m \u001B[1;36m1\u001B[0m\u001B[1;33m\u001B[0m\u001B[1;33m\u001B[0m\u001B[0m\n\u001B[0;32m      4\u001B[0m \u001B[0ml\u001B[0m \u001B[1;33m=\u001B[0m \u001B[1;33m[\u001B[0m\u001B[1;36m1\u001B[0m\u001B[1;33m,\u001B[0m\u001B[1;36m2\u001B[0m\u001B[1;33m,\u001B[0m\u001B[1;36m3\u001B[0m\u001B[1;33m,\u001B[0m\u001B[1;36m4\u001B[0m\u001B[1;33m,\u001B[0m\u001B[1;36m5\u001B[0m\u001B[1;33m,\u001B[0m\u001B[1;36m6\u001B[0m\u001B[1;33m,\u001B[0m\u001B[1;36m7\u001B[0m\u001B[1;33m,\u001B[0m\u001B[1;33m[\u001B[0m\u001B[1;36m11\u001B[0m\u001B[1;33m,\u001B[0m\u001B[1;36m22\u001B[0m\u001B[1;33m,\u001B[0m\u001B[1;36m33\u001B[0m\u001B[1;33m,\u001B[0m\u001B[1;36m44\u001B[0m\u001B[1;33m,\u001B[0m\u001B[1;36m55\u001B[0m\u001B[1;33m,\u001B[0m\u001B[1;36m66\u001B[0m\u001B[1;33m]\u001B[0m\u001B[1;33m,\u001B[0m\u001B[1;36m111\u001B[0m\u001B[1;33m,\u001B[0m\u001B[1;36m222\u001B[0m\u001B[1;33m,\u001B[0m\u001B[1;36m333\u001B[0m\u001B[1;33m,\u001B[0m\u001B[1;34m'umesh'\u001B[0m\u001B[1;33m]\u001B[0m\u001B[1;33m\u001B[0m\u001B[1;33m\u001B[0m\u001B[0m\n\u001B[0;32m      5\u001B[0m \u001B[0ml\u001B[0m\u001B[1;33m\u001B[0m\u001B[1;33m\u001B[0m\u001B[0m\n",
      "\u001B[1;31mNameError\u001B[0m: name 'umesh' is not defined"
     ]
    }
   ],
   "source": [
    "l = [3,4,5,6,7, [23,456,67,8,78,78], [345,56,87,8,98,9],(234,6657,6),{'key1':'sudh', 234:[]}]\n",
    "umesh\n",
    "1\n",
    "l = [1,2,3,4,5,6,7,[11,22,33,44,55,66],111,222,333,'umesh']\n",
    "l\n",
    "1\n",
    "l\n",
    "[1, 2, 3, 4, 5, 6, 7, [11, 22, 33, 44, 55, 66], 111, 222, 333, 'umesh']\n",
    "3\n",
    "1\n",
    "l.remove(3)\n",
    "l\n",
    "1\n",
    "l\n",
    "[1, 2, 4, 5, 6, 7, [11, 22, 33, 44, 55, 66], 111, 222, 333, 'umesh']\n",
    "2\n",
    "1\n",
    "l.remove(2)\n",
    "l\n",
    "1\n",
    "l\n",
    "[1, 4, 5, 6, 7, [11, 22, 33, 44, 55, 66], 111, 222, 333, 'umesh']\n"
   ]
  },
  {
   "cell_type": "code",
   "execution_count": 188,
   "id": "148512dd",
   "metadata": {},
   "outputs": [],
   "source": [
    "l = [10,2,3,4,5,6,7,[11,22,33,44,55,66],111,222,333,'umesh']"
   ]
  },
  {
   "cell_type": "code",
   "execution_count": null,
   "outputs": [],
   "source": [],
   "metadata": {
    "collapsed": false
   }
  },
  {
   "cell_type": "code",
   "execution_count": 189,
   "id": "9f725819",
   "metadata": {},
   "outputs": [],
   "source": [
    "l.remove(10)"
   ]
  },
  {
   "cell_type": "code",
   "execution_count": 190,
   "id": "95328172",
   "metadata": {},
   "outputs": [
    {
     "data": {
      "text/plain": "[2, 3, 4, 5, 6, 7, [11, 22, 33, 44, 55, 66], 111, 222, 333, 'umesh']"
     },
     "execution_count": 190,
     "metadata": {},
     "output_type": "execute_result"
    }
   ],
   "source": [
    "l"
   ]
  },
  {
   "cell_type": "code",
   "execution_count": 191,
   "id": "c1b6beae",
   "metadata": {},
   "outputs": [
    {
     "name": "stdout",
     "output_type": "stream",
     "text": [
      "1\n",
      "5\n",
      "asdf\n"
     ]
    },
    {
     "ename": "IndexError",
     "evalue": "list index out of range",
     "output_type": "error",
     "traceback": [
      "\u001B[1;31m---------------------------------------------------------------------------\u001B[0m",
      "\u001B[1;31mIndexError\u001B[0m                                Traceback (most recent call last)",
      "\u001B[1;32m~\\AppData\\Local\\Temp/ipykernel_3800/1981221033.py\u001B[0m in \u001B[0;36m<module>\u001B[1;34m\u001B[0m\n\u001B[0;32m      3\u001B[0m     \u001B[1;32mif\u001B[0m \u001B[0mtype\u001B[0m\u001B[1;33m(\u001B[0m\u001B[0mi\u001B[0m\u001B[1;33m)\u001B[0m \u001B[1;33m==\u001B[0m \u001B[0mlist\u001B[0m\u001B[1;33m:\u001B[0m\u001B[1;33m\u001B[0m\u001B[1;33m\u001B[0m\u001B[0m\n\u001B[0;32m      4\u001B[0m         \u001B[1;32mfor\u001B[0m \u001B[0mj\u001B[0m \u001B[1;32min\u001B[0m \u001B[0mrange\u001B[0m\u001B[1;33m(\u001B[0m\u001B[0mlen\u001B[0m\u001B[1;33m(\u001B[0m\u001B[0mi\u001B[0m\u001B[1;33m)\u001B[0m\u001B[1;33m-\u001B[0m\u001B[1;36m1\u001B[0m\u001B[1;33m)\u001B[0m\u001B[1;33m:\u001B[0m\u001B[1;33m\u001B[0m\u001B[1;33m\u001B[0m\u001B[0m\n\u001B[1;32m----> 5\u001B[1;33m             \u001B[0mprint\u001B[0m\u001B[1;33m(\u001B[0m\u001B[0mi\u001B[0m\u001B[1;33m[\u001B[0m\u001B[0mj\u001B[0m\u001B[1;33m]\u001B[0m\u001B[1;33m)\u001B[0m\u001B[1;33m\u001B[0m\u001B[1;33m\u001B[0m\u001B[0m\n\u001B[0m\u001B[0;32m      6\u001B[0m             \u001B[1;32mwhile\u001B[0m \u001B[0mtype\u001B[0m\u001B[1;33m(\u001B[0m\u001B[0mi\u001B[0m\u001B[1;33m[\u001B[0m\u001B[0mj\u001B[0m\u001B[1;33m]\u001B[0m\u001B[1;33m)\u001B[0m \u001B[1;33m==\u001B[0m \u001B[0mstr\u001B[0m\u001B[1;33m:\u001B[0m\u001B[1;33m\u001B[0m\u001B[1;33m\u001B[0m\u001B[0m\n\u001B[0;32m      7\u001B[0m                 \u001B[0mi\u001B[0m\u001B[1;33m.\u001B[0m\u001B[0mremove\u001B[0m\u001B[1;33m(\u001B[0m\u001B[0mi\u001B[0m\u001B[1;33m[\u001B[0m\u001B[0mj\u001B[0m\u001B[1;33m]\u001B[0m\u001B[1;33m)\u001B[0m\u001B[1;33m\u001B[0m\u001B[1;33m\u001B[0m\u001B[0m\n",
      "\u001B[1;31mIndexError\u001B[0m: list index out of range"
     ]
    }
   ],
   "source": [
    "l=[1,'a','d',[1,5,'asdf','zswe','aa',345],45,\"dfg\",['s','d',1,2,3],'k']\n",
    "for i in l:\n",
    "    if type(i) == list:\n",
    "        for j in range(len(i)-1):\n",
    "            print(i[j])\n",
    "            while type(i[j]) == str:\n",
    "                i.remove(i[j])\n",
    "print(l)"
   ]
  },
  {
   "cell_type": "code",
   "execution_count": null,
   "id": "96e1aa6e",
   "metadata": {
    "pycharm": {
     "is_executing": true
    }
   },
   "outputs": [],
   "source": []
  },
  {
   "cell_type": "code",
   "execution_count": null,
   "outputs": [],
   "source": [],
   "metadata": {
    "collapsed": false,
    "pycharm": {
     "is_executing": true
    }
   }
  },
  {
   "cell_type": "code",
   "execution_count": null,
   "outputs": [],
   "source": [],
   "metadata": {
    "collapsed": false,
    "pycharm": {
     "is_executing": true
    }
   }
  },
  {
   "cell_type": "code",
   "execution_count": null,
   "outputs": [],
   "source": [],
   "metadata": {
    "collapsed": false,
    "pycharm": {
     "is_executing": true
    }
   }
  },
  {
   "cell_type": "code",
   "execution_count": null,
   "outputs": [],
   "source": [],
   "metadata": {
    "collapsed": false,
    "pycharm": {
     "is_executing": true
    }
   }
  },
  {
   "cell_type": "code",
   "execution_count": null,
   "outputs": [],
   "source": [],
   "metadata": {
    "collapsed": false,
    "pycharm": {
     "is_executing": true
    }
   }
  },
  {
   "cell_type": "code",
   "execution_count": null,
   "outputs": [],
   "source": [],
   "metadata": {
    "collapsed": false,
    "pycharm": {
     "is_executing": true
    }
   }
  },
  {
   "cell_type": "code",
   "execution_count": null,
   "outputs": [],
   "source": [],
   "metadata": {
    "collapsed": false,
    "pycharm": {
     "is_executing": true
    }
   }
  },
  {
   "cell_type": "code",
   "execution_count": null,
   "outputs": [],
   "source": [],
   "metadata": {
    "collapsed": false,
    "pycharm": {
     "is_executing": true
    }
   }
  },
  {
   "cell_type": "code",
   "execution_count": null,
   "outputs": [],
   "source": [],
   "metadata": {
    "collapsed": false,
    "pycharm": {
     "is_executing": true
    }
   }
  },
  {
   "cell_type": "code",
   "execution_count": null,
   "outputs": [],
   "source": [],
   "metadata": {
    "collapsed": false,
    "pycharm": {
     "is_executing": true
    }
   }
  },
  {
   "cell_type": "code",
   "execution_count": null,
   "outputs": [],
   "source": [],
   "metadata": {
    "collapsed": false,
    "pycharm": {
     "is_executing": true
    }
   }
  },
  {
   "cell_type": "code",
   "execution_count": null,
   "outputs": [],
   "source": [],
   "metadata": {
    "collapsed": false,
    "pycharm": {
     "is_executing": true
    }
   }
  },
  {
   "cell_type": "code",
   "execution_count": null,
   "outputs": [],
   "source": [],
   "metadata": {
    "collapsed": false,
    "pycharm": {
     "is_executing": true
    }
   }
  },
  {
   "cell_type": "code",
   "execution_count": 191,
   "outputs": [],
   "source": [],
   "metadata": {
    "collapsed": false
   }
  },
  {
   "cell_type": "code",
   "execution_count": null,
   "outputs": [],
   "source": [],
   "metadata": {
    "collapsed": false,
    "pycharm": {
     "is_executing": true
    }
   }
  },
  {
   "cell_type": "code",
   "execution_count": 191,
   "outputs": [],
   "source": [],
   "metadata": {
    "collapsed": false
   }
  }
 ],
 "metadata": {
  "kernelspec": {
   "display_name": "Python 3 (ipykernel)",
   "language": "python",
   "name": "python3"
  },
  "language_info": {
   "codemirror_mode": {
    "name": "ipython",
    "version": 3
   },
   "file_extension": ".py",
   "mimetype": "text/x-python",
   "name": "python",
   "nbconvert_exporter": "python",
   "pygments_lexer": "ipython3",
   "version": "3.9.7"
  }
 },
 "nbformat": 4,
 "nbformat_minor": 5
}
