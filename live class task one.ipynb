{
 "cells": [
  {
   "cell_type": "markdown",
   "source": [],
   "metadata": {
    "collapsed": false
   }
  },
  {
   "cell_type": "markdown",
   "source": [
    "CLASS 4 HOMEWORK:\n",
    "\n",
    "\n",
    "Try to extract data from index one to index 300 with a jump 0f 3\n",
    "Try to reverse a string without using reverse function\n",
    "Try to split a string after conversion of entire string in uppercase\n",
    "Try to convert whole string into lower case\n",
    "Try to capitalize whole string\n",
    "Write difference between isalnum() and isalpha()\n",
    "Try to give an example of exapand tab\n",
    "Give an example of strip, lstrip and rstrip\n",
    "Replace a string character by another character by taking your own example\n",
    "Try to give a definition of string center function with an example\n",
    "Write your definition of compiler and interpretor without copy paste from internet\n",
    "\n",
    "Python is an interpreted or compile language. Give a clear answer with your understanding\n",
    "Try to write a use case of python with your understanding\n"
   ],
   "metadata": {
    "collapsed": false
   }
  },
  {
   "cell_type": "code",
   "execution_count": 5,
   "outputs": [
    {
     "data": {
      "text/plain": "'h   r tnrrmglsnimeNGyosi dtfco'"
     },
     "execution_count": 5,
     "metadata": {},
     "output_type": "execute_result"
    }
   ],
   "source": [
    "# Try to extract data from index one to index 300 with a jump 0f 3\n",
    "\n",
    "strng = \"this is My First Python programming class and i am learNING python string and its function\"\n",
    "ext_str = strng[1:300:3]\n",
    "ext_str"
   ],
   "metadata": {
    "collapsed": false
   }
  },
  {
   "cell_type": "code",
   "execution_count": 4,
   "outputs": [
    {
     "data": {
      "text/plain": "'this is My First Python programming class and i am learNING python string and its function'"
     },
     "execution_count": 4,
     "metadata": {},
     "output_type": "execute_result"
    }
   ],
   "source": [
    "strng"
   ],
   "metadata": {
    "collapsed": false
   }
  },
  {
   "cell_type": "code",
   "execution_count": 7,
   "outputs": [
    {
     "data": {
      "text/plain": "'noitcnuf sti dna gnirts nohtyp GNINrael ma i dna ssalc gnimmargorp nohtyP tsriF yM si siht'"
     },
     "execution_count": 7,
     "metadata": {},
     "output_type": "execute_result"
    }
   ],
   "source": [
    "# Try to reverse a string without using reverse function\n",
    "\n",
    "rev_strng = strng[::-1]\n",
    "rev_strng"
   ],
   "metadata": {
    "collapsed": false
   }
  },
  {
   "cell_type": "code",
   "execution_count": 13,
   "outputs": [
    {
     "data": {
      "text/plain": "['THIS',\n 'IS',\n 'MY',\n 'FIRST',\n 'PYTHON',\n 'PROGRAMMING',\n 'CLASS',\n 'AND',\n 'I',\n 'AM',\n 'LEARNING',\n 'PYTHON',\n 'STRING',\n 'AND',\n 'ITS',\n 'FUNCTION']"
     },
     "execution_count": 13,
     "metadata": {},
     "output_type": "execute_result"
    }
   ],
   "source": [
    "#Try to split a string after conversion of entire string in uppercase\n",
    "\n",
    "spl_str = strng.upper().split(' ')\n",
    "spl_str"
   ],
   "metadata": {
    "collapsed": false
   }
  },
  {
   "cell_type": "code",
   "execution_count": 14,
   "outputs": [
    {
     "data": {
      "text/plain": "'this is my first python programming class and i am learning python string and its function'"
     },
     "execution_count": 14,
     "metadata": {},
     "output_type": "execute_result"
    }
   ],
   "source": [
    "# Try to convert whole string into lower case\n",
    "str_lower = strng.lower()\n",
    "str_lower"
   ],
   "metadata": {
    "collapsed": false
   }
  },
  {
   "cell_type": "code",
   "execution_count": 15,
   "outputs": [
    {
     "data": {
      "text/plain": "'This is my first python programming class and i am learning python string and its function'"
     },
     "execution_count": 15,
     "metadata": {},
     "output_type": "execute_result"
    }
   ],
   "source": [
    "# Try to capitalize whole string\n",
    "\n",
    "cap_str = strng.capitalize()\n",
    "cap_str"
   ],
   "metadata": {
    "collapsed": false
   }
  },
  {
   "cell_type": "code",
   "execution_count": 22,
   "outputs": [],
   "source": [
    "# Write difference between isalnum() and isalpha()     (python)\n",
    "\n",
    " # isalnum : returns true if a string only contains letters\n",
    "\n",
    " #  isalpha:  returns true if a string contains alphanumeric characters, without symbols."
   ],
   "metadata": {
    "collapsed": false
   }
  },
  {
   "cell_type": "code",
   "execution_count": 23,
   "outputs": [
    {
     "data": {
      "text/plain": "False"
     },
     "execution_count": 23,
     "metadata": {},
     "output_type": "execute_result"
    }
   ],
   "source": [
    "s1 = 'ineuron12'\n",
    "s1.isalpha()"
   ],
   "metadata": {
    "collapsed": false
   }
  },
  {
   "cell_type": "code",
   "execution_count": 24,
   "outputs": [
    {
     "data": {
      "text/plain": "True"
     },
     "execution_count": 24,
     "metadata": {},
     "output_type": "execute_result"
    }
   ],
   "source": [
    "s1 = 'ineuronjoy'\n",
    "s1.isalpha()"
   ],
   "metadata": {
    "collapsed": false
   }
  },
  {
   "cell_type": "code",
   "execution_count": 25,
   "outputs": [
    {
     "data": {
      "text/plain": "True"
     },
     "execution_count": 25,
     "metadata": {},
     "output_type": "execute_result"
    }
   ],
   "source": [
    "t1 = 'joydeb123'\n",
    "t1.isalnum()"
   ],
   "metadata": {
    "collapsed": false
   }
  },
  {
   "cell_type": "code",
   "execution_count": 26,
   "outputs": [
    {
     "data": {
      "text/plain": "True"
     },
     "execution_count": 26,
     "metadata": {},
     "output_type": "execute_result"
    }
   ],
   "source": [
    "t1 = 'joydeb'\n",
    "t1.isalnum()"
   ],
   "metadata": {
    "collapsed": false
   }
  },
  {
   "cell_type": "code",
   "execution_count": 28,
   "outputs": [
    {
     "data": {
      "text/plain": "'sujoy   Joy     Deb'"
     },
     "execution_count": 28,
     "metadata": {},
     "output_type": "execute_result"
    }
   ],
   "source": [
    " # Try to give an example of exapand tab\n",
    "\n",
    "nam = \"Sujoy\\tJoy\\tDeb\"\n",
    "nam.expandtabs()"
   ],
   "metadata": {
    "collapsed": false
   }
  },
  {
   "cell_type": "code",
   "execution_count": 18,
   "outputs": [],
   "source": [
    " # Give an example of strip, lstrip and rstrip"
   ],
   "metadata": {
    "collapsed": false
   }
  },
  {
   "cell_type": "code",
   "execution_count": 29,
   "outputs": [
    {
     "data": {
      "text/plain": "'joy deb sujoy   hello'"
     },
     "execution_count": 29,
     "metadata": {},
     "output_type": "execute_result"
    }
   ],
   "source": [
    "trip = \"   joy deb sujoy   hello    \" #Leading and Trailing space only stripped\n",
    "trip.strip()"
   ],
   "metadata": {
    "collapsed": false
   }
  },
  {
   "cell_type": "code",
   "execution_count": 30,
   "outputs": [
    {
     "data": {
      "text/plain": "'joy deb sujoy   hello    '"
     },
     "execution_count": 30,
     "metadata": {},
     "output_type": "execute_result"
    }
   ],
   "source": [
    "left_trip = trip.lstrip()      # just the leading strip is stripped\n",
    "left_trip\n"
   ],
   "metadata": {
    "collapsed": false
   }
  },
  {
   "cell_type": "code",
   "execution_count": 32,
   "outputs": [
    {
     "data": {
      "text/plain": "'   joy deb sujoy   hello'"
     },
     "execution_count": 32,
     "metadata": {},
     "output_type": "execute_result"
    }
   ],
   "source": [
    "right_strip = trip.rstrip()        # only trailing space will be stripped\n",
    "right_strip"
   ],
   "metadata": {
    "collapsed": false
   }
  },
  {
   "cell_type": "markdown",
   "source": [
    "# Replace a string character by another character by taking your own example"
   ],
   "metadata": {
    "collapsed": false
   }
  },
  {
   "cell_type": "code",
   "execution_count": 37,
   "outputs": [
    {
     "data": {
      "text/plain": "'susoy deb soy'"
     },
     "execution_count": 37,
     "metadata": {},
     "output_type": "execute_result"
    }
   ],
   "source": [
    "nam = \"sujoy deb joy\"\n",
    "nam.replace('j','s')\n"
   ],
   "metadata": {
    "collapsed": false
   }
  },
  {
   "cell_type": "markdown",
   "source": [
    "##  Try to give a definition of string center function with an example\n",
    "\n",
    "String 'Center' function:\n",
    " -- returns a centered string of length width."
   ],
   "metadata": {
    "collapsed": false
   }
  },
  {
   "cell_type": "code",
   "execution_count": 40,
   "outputs": [
    {
     "data": {
      "text/plain": "'-----------sujoy deb joy------------'"
     },
     "execution_count": 40,
     "metadata": {},
     "output_type": "execute_result"
    }
   ],
   "source": [
    "nam.center(36,'-')"
   ],
   "metadata": {
    "collapsed": false
   }
  },
  {
   "cell_type": "markdown",
   "source": [
    "## Write your definition of compiler and interpretor without copy paste from internet\n",
    "\n",
    "in interpreter language the program works on one statement at a time.\n",
    "in compiler language it takes the whole program and checks out errors and everything\n"
   ],
   "metadata": {
    "collapsed": false
   }
  },
  {
   "cell_type": "markdown",
   "source": [
    "## Python is an interpreted or compile language. Give a clear answer with your understanding\n",
    "\n",
    "unlike the popular belief that python is an interpreted language, it's not entirely true. As under the hood, python code is first compiled and then interpreted. usually, the compilation thing is hidden from the coder, hence the popular belief of it to be a interpreted language.\n",
    "\n",
    "The compilation part is done first when we execute our code and this will generate byte code and internally this byte code gets converted by the python virtual machine(p.v.m) according to the underlying platform(machine+operating system).\n",
    "\n"
   ],
   "metadata": {
    "collapsed": false
   }
  },
  {
   "cell_type": "markdown",
   "source": [
    "## Try to write a use case of python with your understanding\n",
    "\n",
    "web development\n",
    "\n",
    "game development\n",
    "\n",
    "data science\n",
    "\n",
    "web scrapping\n",
    "\n",
    "software applications\n"
   ],
   "metadata": {
    "collapsed": false
   }
  },
  {
   "cell_type": "code",
   "execution_count": null,
   "outputs": [],
   "source": [],
   "metadata": {
    "collapsed": false
   }
  }
 ],
 "metadata": {
  "kernelspec": {
   "display_name": "Python 3",
   "language": "python",
   "name": "python3"
  },
  "language_info": {
   "codemirror_mode": {
    "name": "ipython",
    "version": 2
   },
   "file_extension": ".py",
   "mimetype": "text/x-python",
   "name": "python",
   "nbconvert_exporter": "python",
   "pygments_lexer": "ipython2",
   "version": "2.7.6"
  }
 },
 "nbformat": 4,
 "nbformat_minor": 0
}
